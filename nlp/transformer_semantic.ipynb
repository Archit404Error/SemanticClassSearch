{
 "cells": [
  {
   "cell_type": "code",
   "execution_count": 27,
   "id": "37165c10",
   "metadata": {},
   "outputs": [],
   "source": [
    "from transformers import pipeline\n",
    "from sentence_transformers import SentenceTransformer\n",
    "import numpy as np"
   ]
  },
  {
   "cell_type": "code",
   "execution_count": 11,
   "id": "a3cc0ab9",
   "metadata": {},
   "outputs": [],
   "source": [
    "vec_model = SentenceTransformer('sentence-transformers/all-mpnet-base-v2')"
   ]
  },
  {
   "cell_type": "code",
   "execution_count": 32,
   "id": "5a9a8bd1",
   "metadata": {},
   "outputs": [],
   "source": [
    "sentences = [\"generative ai\", \"generative artificial intelligence\"]\n",
    "encs = vec_model.encode(sentences)"
   ]
  },
  {
   "cell_type": "code",
   "execution_count": 33,
   "id": "ba4f54bc",
   "metadata": {},
   "outputs": [
    {
     "data": {
      "text/plain": [
       "array([[0.9111715]], dtype=float32)"
      ]
     },
     "execution_count": 33,
     "metadata": {},
     "output_type": "execute_result"
    }
   ],
   "source": [
    "from sklearn.metrics.pairwise import cosine_similarity\n",
    "cosine_similarity([encs[0]], [encs[1]])"
   ]
  },
  {
   "cell_type": "code",
   "execution_count": null,
   "id": "7f1f6929",
   "metadata": {},
   "outputs": [],
   "source": []
  }
 ],
 "metadata": {
  "kernelspec": {
   "display_name": "huggingface-kernel",
   "language": "python",
   "name": "huggingface-kernel"
  },
  "language_info": {
   "codemirror_mode": {
    "name": "ipython",
    "version": 3
   },
   "file_extension": ".py",
   "mimetype": "text/x-python",
   "name": "python",
   "nbconvert_exporter": "python",
   "pygments_lexer": "ipython3",
   "version": "3.10.8"
  }
 },
 "nbformat": 4,
 "nbformat_minor": 5
}
