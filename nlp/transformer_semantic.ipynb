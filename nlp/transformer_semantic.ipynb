{
 "cells": [
  {
   "cell_type": "code",
   "execution_count": 2,
   "id": "eb4324d7",
   "metadata": {},
   "outputs": [
    {
     "name": "stdout",
     "output_type": "stream",
     "text": [
      "Paragraph:\n",
      "Learn the alignment foundations of yoga while building strength, flexibility, and vitality! This class is for those who are new to yoga or those looking to fine tune their practice. Students will learn the \"ins and outs\" of a variety of standing poses, back bends, and maybe even a few inversions or arm balances! Modifications will be given to accommodate all levels. Each class will also include breath instruction and poses for stress reduction.\n",
      "\n",
      "Generated Queries:\n",
      "1: can you have a regular yoga class and do inversions\n",
      "2: how yoga helps\n",
      "3: what poses can you do during yoga class\n",
      "4: where to learn posing and breathing\n",
      "5: are yoga classes good?\n",
      "Paragraph:\n",
      "An introduction to the actor's technique and performance skills, exploring the elements necessary to begin training as an actor, i.e., observation, concentration, and imagination. Focus is on physical and vocal exercises, improvisation, and text and character. There is required play reading, play attendance, and some scene study.\n",
      "\n",
      "Generated Queries:\n",
      "1: what skills should an actor have\n",
      "2: what is the importance of training in acting\n",
      "3: what is theatre technique\n",
      "4: what training should an actor receive\n",
      "5: definition of an actor and performer\n",
      "Paragraph:\n",
      "Generative models are a class of machine learning algorithms that define probability distributions over complex, high-dimensional objects such as images, sequences, and graphs. Recent advances in deep neural networks and optimization algorithms have significantly enhanced the capabilities of these models and renewed research interest in them. This course explores the foundational probabilistic principles of deep generative models, their learning algorithms, and popular model families, which include variational autoencoders, generative adversarial networks, autoregressive models, and normalizing flows. The course also covers applications in domains such as computer vision, natural language processing, and biomedicine, and draws connections to the field of reinforcement learning.\n",
      "\n",
      "Generated Queries:\n",
      "1: generative model definition machine learning\n",
      "2: what is generative models\n",
      "3: what is generative model\n",
      "4: what is generative machine learning\n",
      "5: generative learning definition\n"
     ]
    }
   ],
   "source": [
    "from transformers import T5Tokenizer, T5ForConditionalGeneration\n",
    "\n",
    "tokenizer = T5Tokenizer.from_pretrained('BeIR/query-gen-msmarco-t5-large-v1')\n",
    "model = T5ForConditionalGeneration.from_pretrained('BeIR/query-gen-msmarco-t5-large-v1')\n",
    "\n",
    "docs = [\"Learn the alignment foundations of yoga while building strength, flexibility, and vitality! This class is for those who are new to yoga or those looking to fine tune their practice. Students will learn the \\\"ins and outs\\\" of a variety of standing poses, back bends, and maybe even a few inversions or arm balances! Modifications will be given to accommodate all levels. Each class will also include breath instruction and poses for stress reduction.\",\n",
    "        \"An introduction to the actor's technique and performance skills, exploring the elements necessary to begin training as an actor, i.e., observation, concentration, and imagination. Focus is on physical and vocal exercises, improvisation, and text and character. There is required play reading, play attendance, and some scene study.\",\n",
    "        \"Generative models are a class of machine learning algorithms that define probability distributions over complex, high-dimensional objects such as images, sequences, and graphs. Recent advances in deep neural networks and optimization algorithms have significantly enhanced the capabilities of these models and renewed research interest in them. This course explores the foundational probabilistic principles of deep generative models, their learning algorithms, and popular model families, which include variational autoencoders, generative adversarial networks, autoregressive models, and normalizing flows. The course also covers applications in domains such as computer vision, natural language processing, and biomedicine, and draws connections to the field of reinforcement learning.\"\n",
    "       ]\n",
    "\n",
    "\n",
    "for para in docs:\n",
    "    input_ids = tokenizer.encode(para, return_tensors='pt')\n",
    "    outputs = model.generate(\n",
    "        input_ids=input_ids,\n",
    "        max_length=64,\n",
    "        do_sample=True,\n",
    "        top_p=0.95,\n",
    "        num_return_sequences=5)\n",
    "\n",
    "    print(\"Paragraph:\")\n",
    "    print(para)\n",
    "\n",
    "    print(\"\\nGenerated Queries:\")\n",
    "    for i in range(len(outputs)):\n",
    "        query = tokenizer.decode(outputs[i], skip_special_tokens=True)\n",
    "        print(f'{i + 1}: {query}')"
   ]
  },
  {
   "cell_type": "code",
   "execution_count": 2,
   "id": "c7d4f64d",
   "metadata": {},
   "outputs": [
    {
     "name": "stderr",
     "output_type": "stream",
     "text": [
      "100%|██████████████████████████████████| 4119/4119 [00:00<00:00, 5934846.50it/s]\n"
     ]
    }
   ],
   "source": [
    "from transformers import T5Tokenizer, T5ForConditionalGeneration\n",
    "import os.path\n",
    "\n",
    "tokenizer = T5Tokenizer.from_pretrained('BeIR/query-gen-msmarco-t5-large-v1')\n",
    "model = T5ForConditionalGeneration.from_pretrained('BeIR/query-gen-msmarco-t5-large-v1')\n",
    "\n",
    "from tqdm import tqdm\n",
    "import json\n",
    "\n",
    "descriptions = []\n",
    "gen_queries = []\n",
    "\n",
    "parsed_data = json.load(open('./parsed_courses.json', 'r'))\n",
    "for course_data in tqdm(parsed_data):\n",
    "    descriptions.append(course_data[3])\n",
    "    \n",
    "synthetic_data_path = \"synthetic_queries.json\"\n",
    "\n",
    "if not os.path.isfile(synthetic_data_path):\n",
    "    for para in tqdm(descriptions):\n",
    "        input_ids = tokenizer.encode(para, return_tensors='pt')\n",
    "        outputs = model.generate(\n",
    "            input_ids=input_ids,\n",
    "            max_length=64,\n",
    "            do_sample=True,\n",
    "            top_p=0.95,\n",
    "            num_return_sequences=5)\n",
    "\n",
    "        for i in range(len(outputs)):\n",
    "            query = tokenizer.decode(outputs[i], skip_special_tokens=True)\n",
    "            gen_queries.append([query, para])\n",
    "\n",
    "    json.dump(gen_queries, open(synthetic_data_path, 'w'))\n",
    "else:\n",
    "    gen_queries = json.load(open(synthetic_data_path, 'r'))"
   ]
  },
  {
   "cell_type": "code",
   "execution_count": 3,
   "id": "e70bda32",
   "metadata": {},
   "outputs": [],
   "source": [
    "from sentence_transformers import SentenceTransformer, models\n",
    "\n",
    "word_emb = models.Transformer('sentence-transformers/msmarco-distilbert-base-dot-prod-v3')\n",
    "pooling = models.Pooling(word_emb.get_word_embedding_dimension())\n",
    "model = SentenceTransformer(modules=[word_emb, pooling])"
   ]
  },
  {
   "cell_type": "code",
   "execution_count": 8,
   "id": "a8c9363f",
   "metadata": {},
   "outputs": [],
   "source": [
    "from sentence_transformers import SentenceTransformer, InputExample, losses, models, datasets\n",
    "\n",
    "train_data = list(map(lambda entry: InputExample(texts=[entry[0], entry[1]]), gen_queries))\n",
    "train_dataloader = datasets.NoDuplicatesDataLoader(train_data, batch_size=4)\n",
    "train_loss = losses.MultipleNegativesRankingLoss(model)"
   ]
  },
  {
   "cell_type": "code",
   "execution_count": 9,
   "id": "b3a1be26",
   "metadata": {},
   "outputs": [
    {
     "data": {
      "application/vnd.jupyter.widget-view+json": {
       "model_id": "afbdfa34d2ab4af3a3ebda1a56390efa",
       "version_major": 2,
       "version_minor": 0
      },
      "text/plain": [
       "Epoch:   0%|          | 0/5 [00:00<?, ?it/s]"
      ]
     },
     "metadata": {},
     "output_type": "display_data"
    },
    {
     "data": {
      "application/vnd.jupyter.widget-view+json": {
       "model_id": "90e65278e3d5417f95c8c2d6efc783f7",
       "version_major": 2,
       "version_minor": 0
      },
      "text/plain": [
       "Iteration:   0%|          | 0/5148 [00:00<?, ?it/s]"
      ]
     },
     "metadata": {},
     "output_type": "display_data"
    },
    {
     "data": {
      "application/vnd.jupyter.widget-view+json": {
       "model_id": "2437f715af7f43b49c09be408ab2e100",
       "version_major": 2,
       "version_minor": 0
      },
      "text/plain": [
       "Iteration:   0%|          | 0/5148 [00:00<?, ?it/s]"
      ]
     },
     "metadata": {},
     "output_type": "display_data"
    },
    {
     "data": {
      "application/vnd.jupyter.widget-view+json": {
       "model_id": "97340a715a6a4bf3bd3249db0c61c0c3",
       "version_major": 2,
       "version_minor": 0
      },
      "text/plain": [
       "Iteration:   0%|          | 0/5148 [00:00<?, ?it/s]"
      ]
     },
     "metadata": {},
     "output_type": "display_data"
    },
    {
     "data": {
      "application/vnd.jupyter.widget-view+json": {
       "model_id": "0590a0049d5b4ccea15e76beb9580d90",
       "version_major": 2,
       "version_minor": 0
      },
      "text/plain": [
       "Iteration:   0%|          | 0/5148 [00:00<?, ?it/s]"
      ]
     },
     "metadata": {},
     "output_type": "display_data"
    },
    {
     "data": {
      "application/vnd.jupyter.widget-view+json": {
       "model_id": "9a54d195a19f4e0eafa503fa2fedd494",
       "version_major": 2,
       "version_minor": 0
      },
      "text/plain": [
       "Iteration:   0%|          | 0/5148 [00:00<?, ?it/s]"
      ]
     },
     "metadata": {},
     "output_type": "display_data"
    }
   ],
   "source": [
    "num_epochs = 5\n",
    "warmup_steps = int(len(train_dataloader) * num_epochs * 0.1)\n",
    "model.fit(train_objectives=[(train_dataloader, train_loss)], epochs=num_epochs, warmup_steps=warmup_steps, show_progress_bar=True)\n",
    "os.makedirs('models', exist_ok=True)\n",
    "model.save('models/course-embeddings')"
   ]
  },
  {
   "cell_type": "code",
   "execution_count": 15,
   "id": "3dfce89d",
   "metadata": {},
   "outputs": [
    {
     "name": "stdout",
     "output_type": "stream",
     "text": [
      "[0.99999994 1.         0.99999994 ... 1.         1.         1.        ]\n",
      "(4119,)\n"
     ]
    },
    {
     "data": {
      "text/plain": [
       "\"\\nif not os.path.isfile('models/courses-normalized.index'):\\n    desc_embeddings = model.encode(course_descs)\\n    desc_embeddings = np.array(desc_embeddings.astype('float32'))\\n    \\n    norms = np.linalg.norm(desc_embeddings, axis=1)\\n    norm_embeddings = np.array([vec / norms[i] for i, vec in enumerate(desc_embeddings)])\\n    norm_embeddings = np.array(norm_embeddings.astype('float32'))\\n    \\n    index = faiss.IndexIDMap(faiss.IndexFlatIP(768))\\n    index.add_with_ids(norm_embeddings, np.arange(len(norm_embeddings)))\\n    faiss.write_index(index, 'models/courses-normalized.index')\\nelse:\\n    index = faiss.read_index('models/courses.index')\\n\""
      ]
     },
     "execution_count": 15,
     "metadata": {},
     "output_type": "execute_result"
    }
   ],
   "source": [
    "from sentence_transformers import SentenceTransformer\n",
    "import numpy as np\n",
    "import os.path\n",
    "import faiss\n",
    "import json\n",
    "\n",
    "model = SentenceTransformer('models/course-embeddings')\n",
    "courses = json.load(open('parsed_courses.json', 'r'))\n",
    "course_descs = list(map(lambda course: course[3], courses))\n",
    "\n",
    "desc_embeddings = model.encode(course_descs)\n",
    "desc_embeddings = np.array(desc_embeddings.astype('float32'))\n",
    "norms = np.linalg.norm(desc_embeddings, axis=1)\n",
    "norm_embeddings = np.array([vec / norms[i] for i, vec in enumerate(desc_embeddings)])\n",
    "norm_embeddings = np.array(norm_embeddings.astype('float32'))\n",
    "\n",
    "if not os.path.isfile('models/courses-normalized.index'):\n",
    "    desc_embeddings = model.encode(course_descs)\n",
    "    desc_embeddings = np.array(desc_embeddings.astype('float32'))\n",
    "    \n",
    "    norms = np.linalg.norm(desc_embeddings, axis=1)\n",
    "    norm_embeddings = np.array([vec / norms[i] for i, vec in enumerate(desc_embeddings)])\n",
    "    norm_embeddings = np.array(norm_embeddings.astype('float32'))\n",
    "    \n",
    "    index = faiss.IndexIDMap(faiss.IndexFlatIP(768))\n",
    "    index.add_with_ids(norm_embeddings, np.arange(len(norm_embeddings)))\n",
    "    faiss.write_index(index, 'models/courses-normalized.index')\n",
    "else:\n",
    "    index = faiss.read_index('models/courses.index')"
   ]
  },
  {
   "cell_type": "code",
   "execution_count": 5,
   "id": "c60b8d0f",
   "metadata": {},
   "outputs": [],
   "source": [
    "def course_rec(query, topn=10):\n",
    "    norm_emb = (emb := model.encode([query])) / np.linalg.norm(emb)\n",
    "    top_res = index.search(norm_emb, topn)\n",
    "    top_res = list(top_res[1])[0]\n",
    "\n",
    "    for doc in top_res:\n",
    "        print(f\"{courses[doc][2]} ({courses[doc][0]} {courses[doc][1]})\")\n",
    "        print(course_descs[doc])"
   ]
  },
  {
   "cell_type": "code",
   "execution_count": 6,
   "id": "ed7bc9cf",
   "metadata": {},
   "outputs": [
    {
     "name": "stdout",
     "output_type": "stream",
     "text": [
      "Discrete Structures - Honors (CS 2802)\n",
      "Covers the mathematics that underlies most of computer science. Topics include mathematical induction; logical proof; propositional and predicate calculus; combinatorics and discrete mathematics; some basic elements of basic probability theory; basic number theory; sets, functions, and relations; graphs; and finite-state machines. These topics are discussed in the context of applications to many areas of computer science, such as the RSA cryptosystem and web searching.   This course is an honors version of CS 2800.  It will cover essentially the same material, but go into more depth.\n",
      "Discrete Structures (CS 2800)\n",
      "Covers the mathematics that underlies most of computer science. Topics include mathematical induction; logical proof; propositional and predicate calculus; combinatorics and discrete mathematics; some basic elements of basic probability theory; basic number theory; sets, functions, and relations; graphs; and finite-state machines. These topics are discussed in the context of applications to many areas of computer science, such as the RSA cryptosystem and web searching.\n",
      "Practical Training in Comp Sci (CS 4997)\n",
      "This independent study course offers CS majors (i.e., undergraduates whose applications to affiliate with the CS major have been approved) an opportunity to reflect on concepts from computer science as they were encountered and applied in a recent internship. Students write a short paper describing their work experience and how it connects to the educational objectives of the computer science major.\n",
      "Scientific Computing Seminar (MATH 7290)\n",
      "Talks on various methods in scientific computing, the analysis of their convergence properties and computational efficiency, and their adaptation to specific applications.\n",
      "Scientific Computing Seminar (CS 7290)\n",
      "Talks on various methods in scientific computing, the analysis of their convergence properties and computational efficiency, and their adaptation to specific applications.\n",
      "Big Data Technologies (ORIE 5270)\n",
      "This course offers a broad overview of computational techniques and mathematical skills useful for data scientists. Topics include: unix shell, regular expressions, version control: (git), data structures and algorithms, working with databases, data analysis using Python and related libraries (Pandas, NumPy/Scipy, scikit-learn), parallel computing (Map-Reduce, Spark, Hadoop), basic finite-precision arithmetic, an overview of standard machine learning and optimization algorithms, and time-permitting, a guided tour of functional programming.  \n",
      "Computational Methods IS Res (INFO 6010)\n",
      "Computation is an essential tool for many facets of information science research. Examples of its utility include capture, access and analysis of digital data; visualization of data for analysis, interpretation and information extraction; construction of user focused applications; and analysis of textual and sensor-derived information to detect patterns and dynamics of human activities, social interactions and social networks. Effective use of computation requires a mixture of skills including structuring data, accessing data, and programming, choosing and applying computational analysis methods, and designing visualizations. This course covers the mixture of these skills with the goal of providing INFOSCI graduate students with the appreciation of their utility and ability to employ them in future research.\n",
      "Distr Comput Principles (CS 5414)\n",
      "Studies the abstractions and algorithms that constitute the foundations for implementing concurrent and distributed computing, with emphasis on supporting fault-tolerance. Topics vary to reflect advances in the field but typically include global state snapshots, causality and clocks (logical and physical), agreement and consensus, primary-backup and state-machine replication, quorums, and gossip. Students undertake a substantial software project to put these ideas into practice. Many students obtain additional project credit by co-registering in CS 4999 or CS 5999.\n",
      "Master of Engineering Project (CS 5999)\n",
      "Independent or group project under the direction of a CS field member or researcher. Projects involve the development of a computer science application (software or hardware) useful in exploring and/or solving an engineering problem with a computer science focus.\n",
      "Building Startup Systems (CS 5356)\n",
      "This course aims to bridge the gap between academic studies of computer science and production software engineering. The course provides a fast-paced introduction to key tools and techniques that can facilitate the building of prototypes and of actual working systems. It introduces technologies for building Web applications and mobile applications, systems for effective storage of data, and tools that support and ease code writing, such as distributed version-control systems, editors and debuggers.\n"
     ]
    }
   ],
   "source": [
    "course_rec(\"fascinating computer science theory\")"
   ]
  },
  {
   "cell_type": "code",
   "execution_count": 7,
   "id": "5da7f116",
   "metadata": {},
   "outputs": [
    {
     "name": "stdout",
     "output_type": "stream",
     "text": [
      "Natural Lang Processing & ML (CS 6741)\n",
      "Robust language understanding has the potential to transform how we interact with computers, extract information from text and study language on large scale. This research-oriented course examines machine learning and inference methods for recovering language structure and meaning. Possible topics include structured prediction and deep learning, methods for situated language understanding, language grounding, and learning to generate text.\n",
      "Advanced Language Technologies (INFO 6300)\n",
      "Graduate-level introduction to technologies for the computational treatment of information in human-language form, covering modern natural-language processing (NLP) and/or information retrieval (IR). Possible topics include language modeling, word embeddings, text categorization and clustering, information extraction, computational syntactic and semantic formalisms, grammar induction, machine translation, latent semantic analysis (LSI), and clickthrough data for web search.\n",
      "Advanced Language Technologies (CS 6740)\n",
      "Graduate-level introduction to technologies for the computational treatment of information in human-language form, covering modern natural-language processing (NLP) and/or information retrieval (IR). Possible topics include language modeling, word embeddings, text categorization and clustering, information extraction, computational syntactic and semantic formalisms, grammar induction, machine translation, latent semantic analysis (LSI), and clickthrough data for web search.\n",
      "Robot Learning (CS 5756)\n",
      "Advances in machine learning have proved critical for robots that continually interact with humans and their environments. Robots must solve the problem of both perception and decision making, i.e., sense the world using different modalities and act in the world by reasoning over decisions and their consequences. Learning plays a key role in how we model both sensing and acting. This course covers various modern robot learning concepts and how to apply them to solve real-world problems.\n",
      "Robot Learning (CS 4756)\n",
      "Advances in machine learning have proved critical for robots that continually interact with humans and their environments. Robots must solve the problem of both perception and decision making, i.e., sense the world using different modalities and act in the world by reasoning over decisions and their consequences. Learning plays a key role in how we model both sensing and acting. This course covers various modern robot learning concepts and how to apply them to solve real-world problems.\n",
      "Computational Linguistics I (LING 4424)\n",
      "Computational models of natural languages. Topics are drawn from: tree syntax and context free grammar, finite state generative morpho-phonology, feature structure grammars, logical semantics, tabular parsing, Hidden Markov models, categorial and minimalist grammars, text corpora, information-theoretic sentence processing, discourse relations, and pronominal coreference.\n",
      "Computational Linguistics I (CS 4744)\n",
      "Computational models of natural languages. Topics are drawn from: tree syntax and context free grammar, finite state generative morpho-phonology, feature structure grammars, logical semantics, tabular parsing, Hidden Markov models, categorial and minimalist grammars, text corpora, information-theoretic sentence processing, discourse relations, and pronominal coreference.\n",
      "Computational Linguistics I (COGST 4240)\n",
      "Computational models of natural languages. Topics are drawn from: tree syntax and context free grammar, finite state generative morpho-phonology, feature structure grammars, logical semantics, tabular parsing, Hidden Markov models, categorial and minimalist grammars, text corpora, information-theoretic sentence processing, discourse relations, and pronominal coreference.\n",
      "Computational Linguistics I (LING 6424)\n",
      "Computational models of natural languages. Topics are drawn from: tree syntax and context free grammar, finite state generative morphophonology, feature structure grammars, logical semantics, tabular parsing, Hidden Markov models, categorial and minimalist grammars, text corpora, information-theoretic sentence processing, discourse relations, and pronominal coreference.\n",
      "Intelligent Autonomous Systems (ECE 5242)\n",
      "How can intelligent machines perceive, make decisions, and execute their plans in an uncertain, dynamic world? This course will cover algorithms for robotic perception, planning, and control with a focus on real-time adaptation and learning. Students should have prior experience with methods in signal processing and machine learning. Topics covered include probabilistic methods for scene segmentation, multimodal sensory integration, latent variable models for dynamical systems, path planning, and reinforcement learning for motor control.\n",
      "Int Hindi Rdg-Wrtg Hrtg Std II (HINDI 2204)\n",
      "Throughout this course sequence all aspects of language learning are practiced; listening, speaking, reading, and writing. Video materials are used and the emphasis is on the conversational aspect of the language.\n",
      "Fundamentals Machine Learning (ECE 4200)\n",
      "The course will be devoted to understanding, implementation, and applications of various machine learning primitives. This course is intended to have three modules, and within each we will cover basic theory, and implementations. The modules will be supervised learning, unsupervised learning, and finally topics that are motivated by engineering applications such as speech recognition, and recommendation systems. Supervised learning will include regression, support vector machines, decision trees, random forests, naïve Bayes, boosting and bagging. Unsupervised learning includes clustering, k-means, k-NN, principal components analysis and other dimensionality reduction methods. We will give particular emphasis on engineering applications, e.g., text data, hand-writing, music, image, and time series data, and categorical datasets such those in recommendation systems. The course will have a programming component, which will be administered in the form of assignments, and in-class-kaggle competitions.\n",
      "Fundamentals Machine Learning (ECE 5420)\n",
      "The course will be devoted to understanding, implementation, and applications of various machine learning primitives. This course is intended to have three modules, and within each we will cover basic theory, and implementations. The modules will be supervised learning, unsupervised learning, and finally topics that are motivated by engineering applications such as speech recognition, and recommendation systems. Supervised learning will include regression, support vector machines, decision trees, random forests, naïve Bayes, boosting and bagging. Unsupervised learning includes clustering, k-means, k-NN, principal components analysis and other dimensionality reduction methods. We will give particular emphasis on engineering applications, e.g., text data, hand-writing, music, image, and time series data, and categorical datasets such those in recommendation systems. The course will have a programming component, which will be administered in the form of assignments, and in-class-kaggle competition\n",
      "Romance Lang Learn &Teach (ROMS 5070)\n",
      "Focuses on language teaching as facilitation of learning, thus on the learner's processing of language acquisition and the promotion of reflective teaching. Pedagogical approaches will be addressed from a learner-centered perspective involving effective language learning strategies and analysis.\n",
      "Mobile HRI (INFO 6755)\n",
      "Robot and automated systems often need to move in and around people. This technical and human-centered course surveys current physical, computation and sensing technologies that make mobile human robot interaction possible, and delves into key research problems in interaction, human modelling, and repair which are needed to tackle the grand challenge of mobile HRI. As part of this course, students will build working prototypes of mobile robots, and deploy them for study in human environments. The 5000-level version of this course focuses on platform development; the 6000-level version of this course focuses on the production of human participant research studies using mobile HRI.\n",
      "Mobile HRI (INFO 5755)\n",
      "Robot and automated systems often need to move in and around people. This technical and human-centered course surveys current physical, computation and sensing technologies that make mobile human robot interaction possible, and delves into key research problems in interaction, human modelling, and repair which are needed to tackle the grand challenge of mobile HRI. As part of this course, students will build working prototypes of mobile robots, and deploy them for study in human environments. The 5000-level version of this course focuses on platform development; the 6000-level version of this course focuses on the production of human participant research studies using mobile HRI.\n",
      "Mobile HRI (CS 6755)\n",
      "Robot and automated systems often need to move in and around people. This technical and human-centered course surveys current physical, computation and sensing technologies that make mobile human robot interaction possible, and delves into key research problems in interaction, human modelling, and repair which are needed to tackle the grand challenge of mobile HRI. As part of this course, students will build working prototypes of mobile robots, and deploy them for study in human environments. The 5000-level version of this course focuses on platform development; the 6000-level version of this course focuses on the production of human participant research studies using mobile HRI.\n",
      "Mobile HRI (CS 5755)\n",
      "Robot and automated systems often need to move in and around people. This technical and human-centered course surveys current physical, computation and sensing technologies that make mobile human robot interaction possible, and delves into key research problems in interaction, human modelling, and repair which are needed to tackle the grand challenge of mobile HRI. As part of this course, students will build working prototypes of mobile robots, and deploy them for study in human environments. The 5000-level version of this course focuses on platform development; the 6000-level version of this course focuses on the production of human participant research studies using mobile HRI.\n",
      "Obj-Oriented Prog & Data Struc (ENGRD 2110)\n",
      "Intermediate programming in a high-level language and introduction to computer science. Topics include object-oriented programming (classes, objects, subclasses, types), graphical user interfaces, algorithm analysis (asymptotic complexity, big \"O\" notation), recursion, testing, program correctness (loop invariants), searching/sorting, data structures (lists, trees, stacks, queues, heaps, search trees, hash tables, graphs), graph algorithms. Java is the principal programming language.\n",
      "Obj-Oriented Prog & Data Struc (CS 2110)\n",
      "Intermediate programming in a high-level language and introduction to computer science. Topics include object-oriented programming (classes, objects, subclasses, types), graphical user interfaces, algorithm analysis (asymptotic complexity, big \"O\" notation), recursion, testing, program correctness (loop invariants), searching/sorting, data structures (lists, trees, stacks, queues, heaps, search trees, hash tables, graphs), graph algorithms. Java is the principal programming language.\n"
     ]
    }
   ],
   "source": [
    "course_rec(\"advanced natural language processing and robot learning\", 20)"
   ]
  },
  {
   "cell_type": "code",
   "execution_count": 8,
   "id": "81f61bf0",
   "metadata": {},
   "outputs": [
    {
     "name": "stdout",
     "output_type": "stream",
     "text": [
      "Discrete Structures - Honors (CS 2802)\n",
      "Covers the mathematics that underlies most of computer science. Topics include mathematical induction; logical proof; propositional and predicate calculus; combinatorics and discrete mathematics; some basic elements of basic probability theory; basic number theory; sets, functions, and relations; graphs; and finite-state machines. These topics are discussed in the context of applications to many areas of computer science, such as the RSA cryptosystem and web searching.   This course is an honors version of CS 2800.  It will cover essentially the same material, but go into more depth.\n",
      "Big Data Technologies (ORIE 5270)\n",
      "This course offers a broad overview of computational techniques and mathematical skills useful for data scientists. Topics include: unix shell, regular expressions, version control: (git), data structures and algorithms, working with databases, data analysis using Python and related libraries (Pandas, NumPy/Scipy, scikit-learn), parallel computing (Map-Reduce, Spark, Hadoop), basic finite-precision arithmetic, an overview of standard machine learning and optimization algorithms, and time-permitting, a guided tour of functional programming.  \n",
      "Discrete Structures (CS 2800)\n",
      "Covers the mathematics that underlies most of computer science. Topics include mathematical induction; logical proof; propositional and predicate calculus; combinatorics and discrete mathematics; some basic elements of basic probability theory; basic number theory; sets, functions, and relations; graphs; and finite-state machines. These topics are discussed in the context of applications to many areas of computer science, such as the RSA cryptosystem and web searching.\n",
      "Data Analytics for Info Sci (INFO 3950)\n",
      "This course will cover intermediate-level applications of data science, with focus on discovery, interpretation, and communication of meaningful patterns in data. Topics will include regression, classification, clustering, and forecasting, with an overview of machine learning algorithms and statistical inference.\n",
      "Machine Learning Apps in Bus (BANA 6920)\n",
      "Businesses are increasingly turning to machine learning and data analytics to inform their decisions and solve complex problems given the recent rise of big data. Machine learning is enabling businesses on issues ranging from business strategy, to their day to day operations, powered by the ever-increasing data types such as social media, web and search traffic, and online reviews. The purpose of this course is to provide students with an introduction to the machine learning methods and explore how to derive meaningful actionable insights from data. The types of methods students will practice in this course include regression (including logistic regression), classification, and clustering.\n",
      "Intro to Machine Learning (CS 5780)\n",
      "The course provides an introduction to machine learning, focusing on supervised learning and its theoretical foundations. Topics include regularized linear models, boosting, kernels, deep networks, generative models, online learning, and ethical questions arising in ML applications.\n",
      "Intro to Machine Learning (CS 4780)\n",
      "The course provides an introduction to machine learning, focusing on supervised learning and its theoretical foundations. Topics include regularized linear models, boosting, kernels, deep networks, generative models, online learning, and ethical questions arising in ML applications.\n",
      "Fundamentals Machine Learning (ECE 4200)\n",
      "The course will be devoted to understanding, implementation, and applications of various machine learning primitives. This course is intended to have three modules, and within each we will cover basic theory, and implementations. The modules will be supervised learning, unsupervised learning, and finally topics that are motivated by engineering applications such as speech recognition, and recommendation systems. Supervised learning will include regression, support vector machines, decision trees, random forests, naïve Bayes, boosting and bagging. Unsupervised learning includes clustering, k-means, k-NN, principal components analysis and other dimensionality reduction methods. We will give particular emphasis on engineering applications, e.g., text data, hand-writing, music, image, and time series data, and categorical datasets such those in recommendation systems. The course will have a programming component, which will be administered in the form of assignments, and in-class-kaggle competitions.\n",
      "Fundamentals Machine Learning (ECE 5420)\n",
      "The course will be devoted to understanding, implementation, and applications of various machine learning primitives. This course is intended to have three modules, and within each we will cover basic theory, and implementations. The modules will be supervised learning, unsupervised learning, and finally topics that are motivated by engineering applications such as speech recognition, and recommendation systems. Supervised learning will include regression, support vector machines, decision trees, random forests, naïve Bayes, boosting and bagging. Unsupervised learning includes clustering, k-means, k-NN, principal components analysis and other dimensionality reduction methods. We will give particular emphasis on engineering applications, e.g., text data, hand-writing, music, image, and time series data, and categorical datasets such those in recommendation systems. The course will have a programming component, which will be administered in the form of assignments, and in-class-kaggle competition\n",
      "ML Hardware and Systems (ECE 5545)\n",
      "This Master's level course will take a hardware-centric view of machine learning systems. From constrained embedded microcontrollers to large distributed multi-GPU systems, we will investigate how these platforms run machine learning algorithms. We will look at different levels of the hardware/software/algorithm stack to make modern machine learning systems possible. This includes understanding different hardware acceleration paradigms, common hardware optimizations such as low-precision arithmetic and sparsity, compilation methodologies, model compression methods such as pruning and distillation, and multi-device federated and distributed training. Through hands-on assignments and an open-ended project, students will develop a holistic view of what it takes to train and deploy a deep neural network.\n"
     ]
    }
   ],
   "source": [
    "course_rec(\"math courses with applications to machine learning and computer science\")"
   ]
  },
  {
   "cell_type": "code",
   "execution_count": 9,
   "id": "967bae48",
   "metadata": {},
   "outputs": [
    {
     "name": "stdout",
     "output_type": "stream",
     "text": [
      "Knowledge&Reality (PHIL 2610)\n",
      "An introduction to some central philosophical questions about knowledge and reality. Questions to be addressed may include: What, if anything, do we know? What is it for a belief to be reasonable? What is it for one event to cause another event? What makes the person reading the beginning of this sentence the same as the person reading the end of this sentence? Readings are typically drawn from recent sources.\n",
      "Introduction To Philosophy (PHIL 1100)\n",
      "A general introduction to some of the main topics, texts, and methods of philosophy. Topics may include the existence of God, the nature of mind and its relation to the body, causation, free will, knowledge and skepticism, and justice and moral obligation. Readings may be drawn from the history of philosophy and contemporary philosophical literature.\n",
      "Modern Philosophy (PHIL 2220)\n",
      "A survey of Western philosophy in the 17th and 18th centuries: Descartes, Locke, Spinoza, Leibniz, Berkeley, Hume, and Kant. We focus largely on epistemology (ideas, skepticism, belief, knowledge, science) and metaphysics (bodies, minds, God, causation, natural laws, afterlife, and personal identity). Some of the ethical implications of these systems will also be mentioned in passing.\n",
      "Kant (PHIL 3230)\n",
      "An intensive study of the metaphysical and epistemological doctrines of the Critique of Pure Reason. Some editions of the course may also consider Kant's ethical views as laid out in the Groundwork of the Metaphysics of Morals and related works.\n",
      "Kant (GERST 3590)\n",
      "An intensive study of the metaphysical and epistemological doctrines of the Critique of Pure Reason. Some editions of the course may also consider Kant's ethical views as laid out in the Groundwork of the Metaphysics of Morals and related works.\n",
      "Existentialism in Black (PHIL 3525)\n",
      "The dominant strains in Euro-American philosophy tend either to erase or underplay the participation in and contributions to the constitution of \"Western\" philosophy of philosophers from the global African world. Additionally, dominant philosophical narratives are notorious for excluding African-inflected discourses from explorations of the perennial problems of philosophy. In this class, we seek to fill this absence by spending time studying the contributions to a distinct philosophical tradition—Existentialism—by thinkers from the global African world.\n",
      "Existentialism in Black (ASRC 3402)\n",
      "The dominant strains in Euro-American philosophy tend either to erase or underplay the participation in and contributions to the constitution of \"Western\" philosophy of philosophers from the global African world. Additionally, dominant philosophical narratives are notorious for excluding African-inflected discourses from explorations of the perennial problems of philosophy. In this class, we seek to fill this absence by spending time studying the contributions to a distinct philosophical tradition—Existentialism—by thinkers from the global African world.\n",
      "Topics in Phil of Language (PHIL 4710)\n",
      "An investigation of varying topics in the philosophy of language including reference, meaning, the relationship between language and thought, communication, modality, logic and pragmatics.\n",
      "Topics the Philosophy of Lang (LING 6634)\n",
      "An investigation of varying topics in the philosophy of language including reference, meaning, the relationship between language and thought, communication, modality, logic and pragmatics.\n",
      "Topics in Phil of Language (LING 4712)\n",
      "An investigation of varying topics in the philosophy of language including reference, meaning, the relationship between language and thought, communication, modality, logic and pragmatics.\n"
     ]
    }
   ],
   "source": [
    "course_rec(\"metaphysics and epistemology\")"
   ]
  },
  {
   "cell_type": "code",
   "execution_count": 10,
   "id": "c37d91f2",
   "metadata": {},
   "outputs": [
    {
     "name": "stdout",
     "output_type": "stream",
     "text": [
      "Outdoor Advanced Tennis (PE 1447)\n",
      "For players with high school team or tournament experience. Skills emphasized are spins, serve and return of serve, volley, overhead smash, court positioning, and playing strategies. Class will meet twice a week for 1 1/2 hours.\n",
      "Outdoor Intermediate Tennis (PE 1446)\n",
      "Review and further instruction in strokes: forehand, backhand, serve, volley, and lob. Topspin and underspin are covered along with doubles strategy. All equipment is furnished.\n",
      "Outdoor Beginning Tennis (PE 1445)\n",
      "Instruction and practice in the basic skills of the game. Grip, serve, forehand, backhand, and lob are areas covered along with scoring systems. All equipment is furnished.\n",
      "Introduction to Squash (PE 1465)\n",
      "A beginner's course. Rules of the game and basic strokes are taught.  All necessary equipment is furnished. Please note: no black soled shoes are allowed on the courts and safety glasses are required to be worn at all times.\n",
      "Advanced Volleyball (PE 1571)\n",
      "For the experienced player. Improvement of skills through practice games and drills. Trials to check the appropriate level of ability will be held during the first class period.\n",
      "Intermediate Squash (PE 1466)\n",
      "More advanced techniques than beginning squash. All necessary equipment is furnished. Please note: no black soled shoes are allowed on the courts and safety glasses are required to be worn at all times.\n",
      "Soccer (PE 1565)\n",
      "This class will cover the fundamental skills of soccer: passing, trapping, heading, dribbling and shooting. Team tactics are covered specific to the outdoor game. \n",
      "Bowling (PE 1300)\n",
      "Instruction available during each class session for the Beginning or Intermediate level bowler. Choice of two 45 minute classes per week or one class for 90 minutes. Shoe rental included in course fee which covers approximately 72 games.\n",
      "Introduction to Ice Hockey (PE 1550)\n",
      "Organized on a team practice basis. Skills to be taught include: skating, stick handling, shooting, passing, personal and team strategy and scrimmaging. Skates and hockey sticks must be supplied by the participants. All other necessary equipment will be supplied by the Physical Education Department.\n",
      "Intermediate Ice Hockey (PE 1551)\n",
      "This course is designed for the intermediate hockey player. Advanced techniques taught include positioning, power play, penalty killing, and offensive and defensive attack. Each session emphasizes game situations and scrimmaging.\n"
     ]
    }
   ],
   "source": [
    "course_rec(\"learn to play tennis\")"
   ]
  },
  {
   "cell_type": "code",
   "execution_count": 11,
   "id": "118c73dc",
   "metadata": {},
   "outputs": [
    {
     "name": "stdout",
     "output_type": "stream",
     "text": [
      "Open Gym (PE 1246)\n",
      "This Open Gym PE course offers an exclusive time and space to students who have previous experience with exercise. The Appel Fitness Center offers a wide variety of free weight and cardio equipment, and experience with this equipment is mandatory for this course. A CFC Personal Trainer will be on staff to supervise and assist students with their training, but independent exercise should be expected.\n",
      "OADI Programs (PE 1661)\n",
      "Outdoors sampler course for PSP students through the PSP program. Activities include events like hiking, canoeing, and trail running.\n",
      "Intro to Camping (PE 1616)\n",
      "This class is designed for anyone wanting to learn the introductory skills to spend a night in the woods.  As an Introduction to camping this class seeks to teach students about tarps, water purification and campsite selection as well as some basic wilderness knowledge and awareness of gear needed for a one night outing.  Students will end the class with a one night outing in the woods off campus.\n",
      "Int-Adv Skiing (PE 1331)\n",
      "Transportation, lessons, ski-lift fees, and skiing time are offered in a package deal. Greek Peak personnel should be contacted to explain the program and fees. Please carefully read the additional information on the PE website for particulars.\n",
      "Interm-Advanced Snowboarding (PE 1333)\n",
      "Instruction, ski-lift fees, and skiing time are offered in a package deal. Greek Peak personnel should be contacted to explain the program and fees. Please carefully read the additional information on the PE website for particulars. \n",
      "Beginning Snowboarding (PE 1332)\n",
      "Instruction, ski-lift fees, and skiing time are offered in a package deal. Greek Peak personnel should be contacted to explain the program and fees. Please carefully read the additional information on the PE website for particulars. \n",
      "Beg. Downhill Skiing (PE 1330)\n",
      "Instruction, ski-lift fees, and skiing time are offered in a package deal. Greek Peak personnel should be contacted to explain the program and fees. Please carefully read the additional information on the PE website for particulars.\n",
      "Bootcamp (PE 1233)\n",
      "This course is designed as a modern military style workout program with an emphasis on both aerobic and anaerobic fitness. Each workout session will consist of stretching, warm-up calisthenics, cardio training using many forms of running, upper body development using circuits, abdominals and cool down stretching. This is a high energy course that will teach students the importance of motivation, enthusiasm and teamwork while familiarizing them with total-fitness techniques and concepts. Students should be prepared to train inside and out at each session. If you are ready to push yourself and train hard, Bootcamp is for you. Students of all fitness levels will benefit greatly from this course.\n",
      "Mountain Biking (PE 1664)\n",
      "Mountain Biking is for those who want to learn the skills to ride a bike on single track trails. Skills on the bike include body position, braking, shifting, descending, climbing and navigating natural terrain such as rocks, roots and logs. You will also learn to complete a bike safety check, change a flat tire and navigate on the trails. Don't have a bike? Don't fret! COE can lend you a bike during class days for an additional $60 fee. \n",
      "Open Water Scuba (PE 1130)\n",
      "Program includes classroom work, skill training in the pool, and open-water training in Cayuga Lake in the summer and fall. Spring classes will be referral only (no open water dives). P.A.D.I. open-water certification awarded upon successful completion of summer and fall classes. Please carefully read the additional information on the PE website for particulars.\n"
     ]
    }
   ],
   "source": [
    "course_rec(\"adventurous outdoor PE classes\")"
   ]
  },
  {
   "cell_type": "code",
   "execution_count": 12,
   "id": "27031732",
   "metadata": {},
   "outputs": [
    {
     "name": "stdout",
     "output_type": "stream",
     "text": [
      "Data Struct & Functional Progr (CS 3110)\n",
      "Advanced programming course that emphasizes functional programming techniques and data structures. Programming topics include recursive and higher-order procedures, models of programming language evaluation and compilation, type systems, and polymorphism. Data structures and algorithms covered include graph algorithms, balanced trees, memory heaps, and garbage collection. Also covers techniques for analyzing program performance and correctness.\n",
      "Obj-Oriented Prog & Data Struc (ENGRD 2110)\n",
      "Intermediate programming in a high-level language and introduction to computer science. Topics include object-oriented programming (classes, objects, subclasses, types), graphical user interfaces, algorithm analysis (asymptotic complexity, big \"O\" notation), recursion, testing, program correctness (loop invariants), searching/sorting, data structures (lists, trees, stacks, queues, heaps, search trees, hash tables, graphs), graph algorithms. Java is the principal programming language.\n",
      "Obj-Oriented Prog & Data Struc (CS 2110)\n",
      "Intermediate programming in a high-level language and introduction to computer science. Topics include object-oriented programming (classes, objects, subclasses, types), graphical user interfaces, algorithm analysis (asymptotic complexity, big \"O\" notation), recursion, testing, program correctness (loop invariants), searching/sorting, data structures (lists, trees, stacks, queues, heaps, search trees, hash tables, graphs), graph algorithms. Java is the principal programming language.\n",
      "Adv Progr Languages (CS 6110)\n",
      "Study of programming paradigms: functional, imperative, concurrent, and probabilistic programming. Mathematical foundations: inductive definitions, fixed points, and formal semantics. Models of programming languages including the lambda calculus. Type systems, polymorphism, modules, and object-oriented constructs. Program transformations, program logic, and applications to programming methodology. \n",
      "Big Data Technologies (ORIE 5270)\n",
      "This course offers a broad overview of computational techniques and mathematical skills useful for data scientists. Topics include: unix shell, regular expressions, version control: (git), data structures and algorithms, working with databases, data analysis using Python and related libraries (Pandas, NumPy/Scipy, scikit-learn), parallel computing (Map-Reduce, Spark, Hadoop), basic finite-precision arithmetic, an overview of standard machine learning and optimization algorithms, and time-permitting, a guided tour of functional programming.  \n",
      "Intro Computing Using Python (CS 1110)\n",
      "Programming and problem solving using Python. Emphasizes principles of software development, style, and testing. Topics include procedures and functions, iteration, recursion, arrays and vectors, strings, an operational model of procedure and function calls, algorithms, exceptions, object-oriented programming. Weekly labs provide guided practice on the computer, with staff present to help. \n",
      "Comp Thinking for Engineers (CHEME 1800)\n",
      "Engineering practice increasingly relies on computational tools and data analysis approaches. The course introduces computational thinking into engineering analysis. Integrates data science and statistics, linear algebra, artificial intelligence, and mathematical modeling approaches into the context of contemporary problems in the design and analysis of processes, products, and systems. Focuses on paradigms, not syntax. Use of the Julia programming language and its associated toolchain to transition from idea to implementation. In addition, cloud computing resources for course materials, assignments, and projects. Weekly labs provide guided hands-on practice. Course assignments use data sets and examples from industrial practice to develop fluency and understanding of real-life problems.\n",
      "Sem in Prog Lang and Compilers (CS 7190)\n",
      "The Programming Languages Discussion Group meets weekly to discuss papers in the area of programming languages, program analysis, and compilers. The goal is to encourage interactions and discussions between students, researchers, and faculty with interests in this area. The seminar is open to everybody interested in languages and compilers. First-year and second-year students are especially encouraged to participate.\n",
      "UNIX Tools and Scripting (CS 2043)\n",
      "UNIX and UNIX-like systems are increasingly being used on personal computers, mobile phones, web servers, and many other systems. They represent a wonderful family of programming environments useful both to computer scientists and to people in many other fields, such as computational biology and computational linguistics, in which data is naturally represented by strings. This course takes students from shell basics and piping, to regular-expression processing tools, to shell scripting and Python. Other topics to be covered include handling concurrent and remote resources, manipulating streams and files, and managing software installations.\n",
      "Python Programming (HADM 6710)\n",
      "Introduction to programming in Python with an emphasis on Hospitality applications. No previous programming experience is required. Topics covered include programming basics, file input and output, Excel integration, database integration, and data analysis.\n"
     ]
    }
   ],
   "source": [
    "course_rec(\"advanced data structures and object-oriented programming\")"
   ]
  },
  {
   "cell_type": "code",
   "execution_count": 13,
   "id": "7362fe92",
   "metadata": {},
   "outputs": [
    {
     "name": "stdout",
     "output_type": "stream",
     "text": [
      "Photography for Non-Majors (ART 1601)\n",
      "This class is an aesthetic and practical education within the realm of images. Students will become capable in the processes of photography and delve into the history and thinking surrounding the medium. They will learn to relate their images to other images which they have made, as well as to contemporary and historical images. The class includes technical lessons and aesthetic explorations. The class will advance via frequent group critiques. This class is for students who are excited about using photography as a creative and inquiring medium, and concurrently gaining technical knowledge to make this happen.\n",
      "Photography: Intro Photography (ART 2601)\n",
      "This course explores camera and lens as devices that frame and translate three-dimensional space to a two-dimensional surface. Through assignments and individual investigation, students acquire a deeper understanding of visual perception and photography as medium for personal expression. This course introduces students to photographic processes and assumes no prior knowledge of photography.\n",
      "Intro to Photography in Rome (ART 1602)\n",
      "Drawing on Rome's historic and contemporary resources for inspiration, this course introduces photography as a means to visual interpretation and authorship. It addresses concepts essential to lens based artistic practice, as well as the technical foundations of digital photography. In this course students learn about diverse approaches to image making with the camera, and develop a body of work referencing their Rome experience. The course includes lectures, critiques, studio assignments, and visits to museums, galleries, and photography studios.\n",
      "The Art and Science of Birds (UNILWYL 1130)\n",
      "Art and science have always been fundamentally linked. Before the invention of photography, illustration was the main documentation tool in science; even now, artistic representations are used to communicate important scientific discoveries. In this course students learn the basics of bird anatomy in tandem with sketching techniques to foster an appreciation of how science and art can reinforce each other in enriching one's life and study. Led by the staff biological illustrator at the Cornell Lab of Ornithology, students begin with the fundamentals of observational drawing to improve accuracy before moving onto watercolors. Interwoven into art lessons are scientific lectures produced by Cornell ornithologists, blending art with current science to cover a range of interconnected topics. No prior bird knowledge or art experience is required or expected.\n",
      "The Art and Science of Birds (BIOEE 1130)\n",
      "Art and science have always been fundamentally linked. Before the invention of photography, illustration was the main documentation tool in science; even now, artistic representations are used to communicate important scientific discoveries. In this course students learn the basics of bird anatomy in tandem with sketching techniques to foster an appreciation of how science and art can reinforce each other in enriching one's life and study. Led by the staff biological illustrator at the Cornell Lab of Ornithology, students begin with the fundamentals of observational drawing to improve accuracy before moving onto watercolors. Interwoven into art lessons are scientific lectures produced by Cornell ornithologists, blending art with current science to cover a range of interconnected topics. No prior bird knowledge or art experience is required or expected.\n",
      "FWS: Can Art Change the World? (ARTH 1176)\n",
      " bell hooks wrote that \"Changing how we see images is clearly one way to change the world.\" But how do images, in turn, shape how we perceive the world around us? How does art and visual culture contribute to historical change? This course examines how images can construct, or question, our perspectives. We will think critically about what separates the everyday images we consume through advertisements and social media from the fine art of modern and contemporary art institutions. Drawing on a selection of modern and contemporary artists working in various geopolitical contexts, students will learn how to pair art historical methods of describing images with political, economic, and social analysis. The course will also introduce students to key texts and theories for developing a critical writing practice, particularly from the Marxist, post-/de-colonial, and Black radical traditions.\n",
      "FWS: Reading Films (COML 1104)\n",
      "We live in an image-saturated world. How do we make sense of the moving image and its powerful roles in shaping culture and mediating our relationship with the world? This course will equip students with the tools to understand and decipher film language. It introduces and interrogates the basic notions, technologies, terminologies, and theories of film analysis. We will study visual and compositional elements, like mise-en-scène, cinematography, editing, and sound. Films we discuss will include different geographies, genres, major directors, schools, and film movements. Through writing, students will learn to analyze films with accurate, medium-specific vocabulary, develop informed and nuanced arguments, and critically reflect on the position of the viewer.\n",
      "Art and Remapping of the World (SHUM 6680)\n",
      "What possibilities does art offer to challenge the primacy of mapping in visualizing our world? Maps allow us to move through space, but they do so by abstracting space to its barest aspects—an act of reduction that has historically served to eliminate Indigenous inhabitants, ecological entanglements, non-spatial elements, and countless other features of our lived environment. This course posits remapping as an act of repair, a means of correcting some of the reductive tendencies of maps. Moving between the history of cartography, particularly as it appears in Cornell's extensive Map Collection, and a study of artistic critiques of the map, we will develop a critical vocabulary for assessing cartographic practice and explore new tools for imagining it otherwise. For longer description and instructor bio visit the Society for the Humanities website.\n",
      "Art and Remapping of the World (SHUM 4680)\n",
      "What possibilities does art offer to challenge the primacy of mapping in visualizing our world? Maps allow us to move through space, but they do so by abstracting space to its barest aspects—an act of reduction that has historically served to eliminate Indigenous inhabitants, ecological entanglements, non-spatial elements, and countless other features of our lived environment. This course posits remapping as an act of repair, a means of correcting some of the reductive tendencies of maps. Moving between the history of cartography, particularly as it appears in Cornell's extensive Map Collection, and a study of artistic critiques of the map, we will develop a critical vocabulary for assessing cartographic practice and explore new tools for imagining it otherwise. For longer description and instructor bio visit the Society for the Humanities website.\n",
      "Art and Remapping of the World (ARTH 6620)\n",
      "What possibilities does art offer to challenge the primacy of mapping in visualizing our world? Maps allow us to move through space, but they do so by abstracting space to its barest aspects—an act of reduction that has historically served to eliminate Indigenous inhabitants, ecological entanglements, non-spatial elements, and countless other features of our lived environment. This course posits remapping as an act of repair, a means of correcting some of the reductive tendencies of maps. Moving between the history of cartography, particularly as it appears in Cornell's extensive Map Collection, and a study of artistic critiques of the map, we will develop a critical vocabulary for assessing cartographic practice and explore new tools for imagining it otherwise. For longer description and instructor bio visit the Society for the Humanities website.\n"
     ]
    }
   ],
   "source": [
    "course_rec(\"how to take compelling and fascinating photos\")"
   ]
  },
  {
   "cell_type": "code",
   "execution_count": null,
   "id": "451c9982",
   "metadata": {},
   "outputs": [],
   "source": []
  }
 ],
 "metadata": {
  "kernelspec": {
   "display_name": "huggingface-kernel",
   "language": "python",
   "name": "huggingface-kernel"
  },
  "language_info": {
   "codemirror_mode": {
    "name": "ipython",
    "version": 3
   },
   "file_extension": ".py",
   "mimetype": "text/x-python",
   "name": "python",
   "nbconvert_exporter": "python",
   "pygments_lexer": "ipython3",
   "version": "3.10.8"
  }
 },
 "nbformat": 4,
 "nbformat_minor": 5
}
