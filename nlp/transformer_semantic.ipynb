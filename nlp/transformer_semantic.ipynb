{
 "cells": [
  {
   "cell_type": "code",
   "execution_count": 13,
   "id": "37165c10",
   "metadata": {},
   "outputs": [],
   "source": [
    "from gensim.models.doc2vec import Doc2Vec\n",
    "from nltk.corpus import stopwords\n",
    "from nltk.tokenize import word_tokenize\n",
    "import re"
   ]
  },
  {
   "cell_type": "code",
   "execution_count": 1,
   "id": "a3cc0ab9",
   "metadata": {},
   "outputs": [],
   "source": [
    "def clean(text):\n",
    "    text = re.sub(r'\\|\\|\\|', r' ', text)\n",
    "    text = text.replace('„','')\n",
    "    text = text.replace('“','')\n",
    "    text = text.replace('\"','')\n",
    "    text = text.replace('\\'','')\n",
    "    text = text.replace('-',' ')\n",
    "    text = text.replace('&', 'and')\n",
    "    text = text.lower()\n",
    "    return text\n",
    "\n",
    "def remove_stopwords(text):\n",
    "    engl_stops = set(stopwords.words('english'))\n",
    "    return ' '.join([word for word in text.split() if word not in engl_stops])\n",
    "\n",
    "def tokenize(text):\n",
    "    return list(filter(lambda word : len(word) > 3, word_tokenize(text)))\n",
    "\n",
    "def preprocess(text):\n",
    "    return tokenize(remove_stopwords(clean(text)))"
   ]
  },
  {
   "cell_type": "code",
   "execution_count": 3,
   "id": "5a9a8bd1",
   "metadata": {},
   "outputs": [],
   "source": [
    "vec_model = Doc2Vec.load('course_embeddings.model')"
   ]
  },
  {
   "cell_type": "code",
   "execution_count": 16,
   "id": "ba4f54bc",
   "metadata": {},
   "outputs": [],
   "source": [
    "def gen_recs(inp, num_recs=10):\n",
    "    print(preprocess(inp))\n",
    "    inf = vec_model.infer_vector(preprocess(inp))\n",
    "    sims = vec_model.dv.most_similar([inf], topn=100)\n",
    "    titles = set()\n",
    "    satisfied = 0\n",
    "    for i, sim in sims:\n",
    "        course = cmp_classes[i]\n",
    "        if course[2] not in titles:\n",
    "            titles.add(course[2])\n",
    "            satisfied += 1\n",
    "            print(sim)\n",
    "            print(course)\n",
    "            if satisfied == num_recs:\n",
    "                break\n",
    "    print(len(sims))"
   ]
  },
  {
   "cell_type": "code",
   "execution_count": 19,
   "id": "7f1f6929",
   "metadata": {},
   "outputs": [
    {
     "name": "stdout",
     "output_type": "stream",
     "text": [
      "['join', 'unique', 'week', 'paid', 'full', 'time', 'internship', 'students', 'interested', 'working', 'technology', 'full', 'time', 'opportunities', 'google', 'relocation', 'assistance', 'available', 'case', 'case', 'basis', 'program', 'give', 'opportunity', 'work', 'complex', 'computer', 'science', 'solutions', 'develop', 'scalable', 'distributed', 'software', 'systems', 'also', 'collaborate', 'multitudes', 'smaller', 'projects', 'universal', 'appeal', 'requires', 'research', 'awareness', 'interactivity', 'asking', 'questions', 'google', 'always', 'engineering', 'company', 'hire', 'people', 'broad', 'technical', 'skills', 'ready', 'address', 'technologys', 'greatest', 'challenges', 'make', 'impact', 'millions', 'billions', 'users', 'google', 'engineers', 'revolutionize', 'search', 'routinely', 'work', 'massive', 'scalability', 'storage', 'solutions', 'large', 'scale', 'applications', 'entirely', 'platforms', 'developers', 'around', 'world', 'google', 'chrome', 'android', 'youtube', 'social', 'local', 'google', 'engineers', 'changing', 'world', 'technological', 'achievement', 'another']\n"
     ]
    },
    {
     "ename": "NameError",
     "evalue": "name 'cmp_classes' is not defined",
     "output_type": "error",
     "traceback": [
      "\u001b[0;31m---------------------------------------------------------------------------\u001b[0m",
      "\u001b[0;31mNameError\u001b[0m                                 Traceback (most recent call last)",
      "Cell \u001b[0;32mIn[19], line 1\u001b[0m\n\u001b[0;32m----> 1\u001b[0m \u001b[43mgen_recs\u001b[49m\u001b[43m(\u001b[49m\u001b[38;5;124;43m\"\"\"\u001b[39;49m\n\u001b[1;32m      2\u001b[0m \u001b[38;5;124;43mJoin us for a unique, 12-week, paid, full-time internship for students who are interested in working in technology and full-time opportunities at Google. Relocation assistance is available on a case by case basis. This program will give you an opportunity to work on complex computer science solutions, develop scalable, distributed software systems, and also collaborate on multitudes of smaller projects that have universal appeal, which requires research, awareness, interactivity, and asking questions.\u001b[39;49m\n\u001b[1;32m      3\u001b[0m \n\u001b[1;32m      4\u001b[0m \u001b[38;5;124;43mGoogle is and always will be an engineering company. We hire people with a broad set of technical skills who are ready to address some of technology\u001b[39;49m\u001b[38;5;124;43m'\u001b[39;49m\u001b[38;5;124;43ms greatest challenges and make an impact on millions, if not billions, of users. At Google, engineers not only revolutionize search, they routinely work on massive scalability and storage solutions, large-scale applications and entirely new platforms for developers around the world. From Google Ads to Chrome, Android to YouTube, Social to Local, Google engineers are changing the world one technological achievement after another.\u001b[39;49m\n\u001b[1;32m      5\u001b[0m \u001b[38;5;124;43m\"\"\"\u001b[39;49m\u001b[43m)\u001b[49m\n",
      "Cell \u001b[0;32mIn[16], line 8\u001b[0m, in \u001b[0;36mgen_recs\u001b[0;34m(inp, num_recs)\u001b[0m\n\u001b[1;32m      6\u001b[0m satisfied \u001b[38;5;241m=\u001b[39m \u001b[38;5;241m0\u001b[39m\n\u001b[1;32m      7\u001b[0m \u001b[38;5;28;01mfor\u001b[39;00m i, sim \u001b[38;5;129;01min\u001b[39;00m sims:\n\u001b[0;32m----> 8\u001b[0m     course \u001b[38;5;241m=\u001b[39m \u001b[43mcmp_classes\u001b[49m[i]\n\u001b[1;32m      9\u001b[0m     \u001b[38;5;28;01mif\u001b[39;00m course[\u001b[38;5;241m2\u001b[39m] \u001b[38;5;129;01mnot\u001b[39;00m \u001b[38;5;129;01min\u001b[39;00m titles:\n\u001b[1;32m     10\u001b[0m         titles\u001b[38;5;241m.\u001b[39madd(course[\u001b[38;5;241m2\u001b[39m])\n",
      "\u001b[0;31mNameError\u001b[0m: name 'cmp_classes' is not defined"
     ]
    }
   ],
   "source": [
    "gen_recs(\"\"\"\n",
    "Join us for a unique, 12-week, paid, full-time internship for students who are interested in working in technology and full-time opportunities at Google. Relocation assistance is available on a case by case basis. This program will give you an opportunity to work on complex computer science solutions, develop scalable, distributed software systems, and also collaborate on multitudes of smaller projects that have universal appeal, which requires research, awareness, interactivity, and asking questions.\n",
    "\n",
    "Google is and always will be an engineering company. We hire people with a broad set of technical skills who are ready to address some of technology's greatest challenges and make an impact on millions, if not billions, of users. At Google, engineers not only revolutionize search, they routinely work on massive scalability and storage solutions, large-scale applications and entirely new platforms for developers around the world. From Google Ads to Chrome, Android to YouTube, Social to Local, Google engineers are changing the world one technological achievement after another.\n",
    "\"\"\")"
   ]
  },
  {
   "cell_type": "code",
   "execution_count": null,
   "id": "8ac965a9",
   "metadata": {},
   "outputs": [],
   "source": []
  }
 ],
 "metadata": {
  "kernelspec": {
   "display_name": "huggingface-kernel",
   "language": "python",
   "name": "huggingface-kernel"
  },
  "language_info": {
   "codemirror_mode": {
    "name": "ipython",
    "version": 3
   },
   "file_extension": ".py",
   "mimetype": "text/x-python",
   "name": "python",
   "nbconvert_exporter": "python",
   "pygments_lexer": "ipython3",
   "version": "3.10.8"
  }
 },
 "nbformat": 4,
 "nbformat_minor": 5
}
