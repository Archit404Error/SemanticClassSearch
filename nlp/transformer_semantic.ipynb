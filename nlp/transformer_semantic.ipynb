{
 "cells": [
  {
   "cell_type": "code",
   "execution_count": 2,
   "id": "eb4324d7",
   "metadata": {},
   "outputs": [
    {
     "name": "stdout",
     "output_type": "stream",
     "text": [
      "Paragraph:\n",
      "Learn the alignment foundations of yoga while building strength, flexibility, and vitality! This class is for those who are new to yoga or those looking to fine tune their practice. Students will learn the \"ins and outs\" of a variety of standing poses, back bends, and maybe even a few inversions or arm balances! Modifications will be given to accommodate all levels. Each class will also include breath instruction and poses for stress reduction.\n",
      "\n",
      "Generated Queries:\n",
      "1: can you have a regular yoga class and do inversions\n",
      "2: how yoga helps\n",
      "3: what poses can you do during yoga class\n",
      "4: where to learn posing and breathing\n",
      "5: are yoga classes good?\n",
      "Paragraph:\n",
      "An introduction to the actor's technique and performance skills, exploring the elements necessary to begin training as an actor, i.e., observation, concentration, and imagination. Focus is on physical and vocal exercises, improvisation, and text and character. There is required play reading, play attendance, and some scene study.\n",
      "\n",
      "Generated Queries:\n",
      "1: what skills should an actor have\n",
      "2: what is the importance of training in acting\n",
      "3: what is theatre technique\n",
      "4: what training should an actor receive\n",
      "5: definition of an actor and performer\n",
      "Paragraph:\n",
      "Generative models are a class of machine learning algorithms that define probability distributions over complex, high-dimensional objects such as images, sequences, and graphs. Recent advances in deep neural networks and optimization algorithms have significantly enhanced the capabilities of these models and renewed research interest in them. This course explores the foundational probabilistic principles of deep generative models, their learning algorithms, and popular model families, which include variational autoencoders, generative adversarial networks, autoregressive models, and normalizing flows. The course also covers applications in domains such as computer vision, natural language processing, and biomedicine, and draws connections to the field of reinforcement learning.\n",
      "\n",
      "Generated Queries:\n",
      "1: generative model definition machine learning\n",
      "2: what is generative models\n",
      "3: what is generative model\n",
      "4: what is generative machine learning\n",
      "5: generative learning definition\n"
     ]
    }
   ],
   "source": [
    "from transformers import T5Tokenizer, T5ForConditionalGeneration\n",
    "\n",
    "tokenizer = T5Tokenizer.from_pretrained('BeIR/query-gen-msmarco-t5-large-v1')\n",
    "model = T5ForConditionalGeneration.from_pretrained('BeIR/query-gen-msmarco-t5-large-v1')\n",
    "\n",
    "docs = [\"Learn the alignment foundations of yoga while building strength, flexibility, and vitality! This class is for those who are new to yoga or those looking to fine tune their practice. Students will learn the \\\"ins and outs\\\" of a variety of standing poses, back bends, and maybe even a few inversions or arm balances! Modifications will be given to accommodate all levels. Each class will also include breath instruction and poses for stress reduction.\",\n",
    "        \"An introduction to the actor's technique and performance skills, exploring the elements necessary to begin training as an actor, i.e., observation, concentration, and imagination. Focus is on physical and vocal exercises, improvisation, and text and character. There is required play reading, play attendance, and some scene study.\",\n",
    "        \"Generative models are a class of machine learning algorithms that define probability distributions over complex, high-dimensional objects such as images, sequences, and graphs. Recent advances in deep neural networks and optimization algorithms have significantly enhanced the capabilities of these models and renewed research interest in them. This course explores the foundational probabilistic principles of deep generative models, their learning algorithms, and popular model families, which include variational autoencoders, generative adversarial networks, autoregressive models, and normalizing flows. The course also covers applications in domains such as computer vision, natural language processing, and biomedicine, and draws connections to the field of reinforcement learning.\"\n",
    "       ]\n",
    "\n",
    "\n",
    "for para in docs:\n",
    "    input_ids = tokenizer.encode(para, return_tensors='pt')\n",
    "    outputs = model.generate(\n",
    "        input_ids=input_ids,\n",
    "        max_length=64,\n",
    "        do_sample=True,\n",
    "        top_p=0.95,\n",
    "        num_return_sequences=5)\n",
    "\n",
    "    print(\"Paragraph:\")\n",
    "    print(para)\n",
    "\n",
    "    print(\"\\nGenerated Queries:\")\n",
    "    for i in range(len(outputs)):\n",
    "        query = tokenizer.decode(outputs[i], skip_special_tokens=True)\n",
    "        print(f'{i + 1}: {query}')"
   ]
  },
  {
   "cell_type": "code",
   "execution_count": 1,
   "id": "c7d4f64d",
   "metadata": {},
   "outputs": [
    {
     "name": "stderr",
     "output_type": "stream",
     "text": [
      "100%|██████████████████████████████████| 3626/3626 [00:00<00:00, 2296322.86it/s]\n",
      "100%|█████████████████████████████████████| 3626/3626 [4:02:51<00:00,  4.02s/it]\n"
     ]
    }
   ],
   "source": [
    "from transformers import T5Tokenizer, T5ForConditionalGeneration\n",
    "import os.path\n",
    "\n",
    "tokenizer = T5Tokenizer.from_pretrained('BeIR/query-gen-msmarco-t5-large-v1')\n",
    "model = T5ForConditionalGeneration.from_pretrained('BeIR/query-gen-msmarco-t5-large-v1')\n",
    "SCRAPE_SEM = \"FA23\"\n",
    "\n",
    "from tqdm import tqdm\n",
    "import json\n",
    "\n",
    "descriptions = []\n",
    "gen_queries = []\n",
    "\n",
    "parsed_data = json.load(open(f'./json/{SCRAPE_SEM}/parsed_courses.json', 'r'))\n",
    "for course_data in tqdm(parsed_data):\n",
    "    descriptions.append(course_data[4])\n",
    "\n",
    "synthetic_data_path = f\"./json/{SCRAPE_SEM}/synthetic_queries.json\"\n",
    "\n",
    "if not os.path.isfile(synthetic_data_path):\n",
    "    for para in tqdm(descriptions):\n",
    "        input_ids = tokenizer.encode(para, return_tensors='pt')\n",
    "        outputs = model.generate(\n",
    "            input_ids=input_ids,\n",
    "            max_length=64,\n",
    "            do_sample=True,\n",
    "            top_p=0.95,\n",
    "            num_return_sequences=5)\n",
    "\n",
    "        for i in range(len(outputs)):\n",
    "            query = tokenizer.decode(outputs[i], skip_special_tokens=True)\n",
    "            gen_queries.append([query, para])\n",
    "\n",
    "    json.dump(gen_queries, open(synthetic_data_path, 'w'))\n",
    "else:\n",
    "    gen_queries = json.load(open(synthetic_data_path, 'r'))"
   ]
  },
  {
   "cell_type": "code",
   "execution_count": 2,
   "id": "e70bda32",
   "metadata": {},
   "outputs": [],
   "source": [
    "from sentence_transformers import SentenceTransformer, models\n",
    "\n",
    "word_emb = models.Transformer('sentence-transformers/msmarco-distilbert-base-dot-prod-v3')\n",
    "pooling = models.Pooling(word_emb.get_word_embedding_dimension())\n",
    "model = SentenceTransformer(modules=[word_emb, pooling])"
   ]
  },
  {
   "cell_type": "code",
   "execution_count": 3,
   "id": "a8c9363f",
   "metadata": {},
   "outputs": [],
   "source": [
    "from sentence_transformers import SentenceTransformer, InputExample, losses, models, datasets\n",
    "\n",
    "train_data = list(map(lambda entry: InputExample(texts=[entry[0], entry[1]]), gen_queries))\n",
    "train_dataloader = datasets.NoDuplicatesDataLoader(train_data, batch_size=4)\n",
    "train_loss = losses.MultipleNegativesRankingLoss(model)"
   ]
  },
  {
   "cell_type": "code",
   "execution_count": 5,
   "id": "b3a1be26",
   "metadata": {},
   "outputs": [
    {
     "data": {
      "application/vnd.jupyter.widget-view+json": {
       "model_id": "cc3ecdc39e36449a89b441f071cffaca",
       "version_major": 2,
       "version_minor": 0
      },
      "text/plain": [
       "Epoch:   0%|          | 0/5 [00:00<?, ?it/s]"
      ]
     },
     "metadata": {},
     "output_type": "display_data"
    },
    {
     "data": {
      "application/vnd.jupyter.widget-view+json": {
       "model_id": "9e7a9ab82c3044bfae0bbbd7448d385f",
       "version_major": 2,
       "version_minor": 0
      },
      "text/plain": [
       "Iteration:   0%|          | 0/4532 [00:00<?, ?it/s]"
      ]
     },
     "metadata": {},
     "output_type": "display_data"
    },
    {
     "data": {
      "application/vnd.jupyter.widget-view+json": {
       "model_id": "00ae42de35144971bbb8011cb2c635a4",
       "version_major": 2,
       "version_minor": 0
      },
      "text/plain": [
       "Iteration:   0%|          | 0/4532 [00:00<?, ?it/s]"
      ]
     },
     "metadata": {},
     "output_type": "display_data"
    },
    {
     "data": {
      "application/vnd.jupyter.widget-view+json": {
       "model_id": "223c3f740068428f93f4417b3d07da65",
       "version_major": 2,
       "version_minor": 0
      },
      "text/plain": [
       "Iteration:   0%|          | 0/4532 [00:00<?, ?it/s]"
      ]
     },
     "metadata": {},
     "output_type": "display_data"
    },
    {
     "data": {
      "application/vnd.jupyter.widget-view+json": {
       "model_id": "f951f9f37c144ad6a4705582c2d1e3f5",
       "version_major": 2,
       "version_minor": 0
      },
      "text/plain": [
       "Iteration:   0%|          | 0/4532 [00:00<?, ?it/s]"
      ]
     },
     "metadata": {},
     "output_type": "display_data"
    },
    {
     "data": {
      "application/vnd.jupyter.widget-view+json": {
       "model_id": "88d394f87f064166bfcad524fa2a1cb5",
       "version_major": 2,
       "version_minor": 0
      },
      "text/plain": [
       "Iteration:   0%|          | 0/4532 [00:00<?, ?it/s]"
      ]
     },
     "metadata": {},
     "output_type": "display_data"
    }
   ],
   "source": [
    "num_epochs = 5\n",
    "warmup_steps = int(len(train_dataloader) * num_epochs * 0.1)\n",
    "model.fit(train_objectives=[(train_dataloader, train_loss)], epochs=num_epochs, warmup_steps=warmup_steps, show_progress_bar=True)\n",
    "os.makedirs(f'models_{SCRAPE_SEM}', exist_ok=True)\n",
    "model.save(f'models_{SCRAPE_SEM}/course-embeddings')"
   ]
  },
  {
   "cell_type": "code",
   "execution_count": 6,
   "id": "3dfce89d",
   "metadata": {},
   "outputs": [],
   "source": [
    "from sentence_transformers import SentenceTransformer\n",
    "import numpy as np\n",
    "import os.path\n",
    "import faiss\n",
    "import json\n",
    "\n",
    "model = SentenceTransformer(f'models_{SCRAPE_SEM}/course-embeddings')\n",
    "courses = json.load(open(f'./json/{SCRAPE_SEM}/parsed_courses.json', 'r'))\n",
    "course_descs = list(map(lambda course: course[4], courses))\n",
    "\n",
    "desc_embeddings = model.encode(course_descs)\n",
    "desc_embeddings = np.array(desc_embeddings.astype('float32'))\n",
    "norms = np.linalg.norm(desc_embeddings, axis=1)\n",
    "norm_embeddings = np.array([vec / norms[i] for i, vec in enumerate(desc_embeddings)])\n",
    "norm_embeddings = np.array(norm_embeddings.astype('float32'))\n",
    "\n",
    "if not os.path.isfile(f'models_{SCRAPE_SEM}/courses-normalized.index'):\n",
    "    desc_embeddings = model.encode(course_descs)\n",
    "    desc_embeddings = np.array(desc_embeddings.astype('float32'))\n",
    "    \n",
    "    norms = np.linalg.norm(desc_embeddings, axis=1)\n",
    "    norm_embeddings = np.array([vec / norms[i] for i, vec in enumerate(desc_embeddings)])\n",
    "    norm_embeddings = np.array(norm_embeddings.astype('float32'))\n",
    "    \n",
    "    index = faiss.IndexIDMap(faiss.IndexFlatIP(768))\n",
    "    index.add_with_ids(norm_embeddings, np.arange(len(norm_embeddings)))\n",
    "    faiss.write_index(index, f'models_{SCRAPE_SEM}/courses-normalized.index')\n",
    "else:\n",
    "    index = faiss.read_index(f'models_{SCRAPE_SEM}/courses.index')"
   ]
  },
  {
   "cell_type": "code",
   "execution_count": 7,
   "id": "c60b8d0f",
   "metadata": {},
   "outputs": [],
   "source": [
    "def course_rec(query, topn=10):\n",
    "    norm_emb = (emb := model.encode([query])) / np.linalg.norm(emb)\n",
    "    top_res = index.search(norm_emb, topn)\n",
    "    top_res = list(top_res[1])[0]\n",
    "\n",
    "    for doc in top_res:\n",
    "        print(f\"{courses[doc][2]} ({courses[doc][0]} {courses[doc][1]})\")\n",
    "        print(course_descs[doc])"
   ]
  },
  {
   "cell_type": "code",
   "execution_count": 8,
   "id": "ed7bc9cf",
   "metadata": {},
   "outputs": [
    {
     "name": "stdout",
     "output_type": "stream",
     "text": [
      "Discrete Structures (CS 2800)\n",
      "Covers the mathematics that underlies most of computer science. Topics include mathematical induction; logical proof; propositional and predicate calculus; combinatorics and discrete mathematics; some basic elements of basic probability theory; basic number theory; sets, functions, and relations; graphs; and finite state machines. These topics are discussed in the context of applications to many areas of computer science, such as the RSA cryptosystem and web searching.\n",
      "Computer System Organization (CS 3410)\n",
      "Introduction to computer organization, systems programming and the hardware/ software interface. Topics include instruction sets, computer arithmetic, datapath design, data formats, addressing modes, memory hierarchies including caches and virtual memory, I/O devices, bus based I/O systems, and multicore architectures. Students learn assembly language programming and design a pipelined RISC processor.\n",
      "Business Computing (HADM 1740)\n",
      "Provides a foundation in information technology (IT) and how it relates to everyday business computing. Students learn IT concepts during lectures, and these concepts are reinforced in practical lab sessions using current standards of business computing. Topics include fundamental IT concepts; proficiency in Microsoft Office; understanding the issues of tool selection, standardization, and efficiency; integration of applications; and recognizing the importance of good computer management.\n",
      "Computing On Earth (STS 4260)\n",
      "This experimental, collaborative and seminar based class will explore the material ethics of computing – the ways in which computing rests upon, emerges from, and ultimately returns to the earth, with deep and sometimes negative implications for sustainability, equity and justice in a rapidly changing world. Drawing on journalistic sources and academic fields ranging from anthropology, philosophy, public policy and environmental ethics to law, science and technology studies and human computer interaction, the course will examine problems of computing related sourcing and extraction, energy and consumption, and waste and repair, and how these are distributed and experienced in vastly different ways by different social groups and actors. Cases and examples will be drawn from near to hand and around the world.\n",
      "Computing On Earth (INFO 5260)\n",
      "This experimental, collaborative and seminar based class will explore the material ethics of computing – the ways in which computing rests upon, emerges from, and ultimately returns to the earth, with deep and sometimes negative implications for sustainability, equity and justice in a rapidly changing world. Drawing on journalistic sources and academic fields ranging from anthropology, philosophy, public policy and environmental ethics to law, science and technology studies and human computer interaction, the course will examine problems of computing related sourcing and extraction, energy and consumption, and waste and repair, and how these are distributed and experienced in vastly different ways by different social groups and actors. Cases and examples will be drawn from near to hand and around the world.\n",
      "Computing On Earth (INFO 4260)\n",
      "This experimental, collaborative and seminar based class will explore the material ethics of computing – the ways in which computing rests upon, emerges from, and ultimately returns to the earth, with deep and sometimes negative implications for sustainability, equity and justice in a rapidly changing world. Drawing on journalistic sources and academic fields ranging from anthropology, philosophy, public policy and environmental ethics to law, science and technology studies and human computer interaction, the course will examine problems of computing related sourcing and extraction, energy and consumption, and waste and repair, and how these are distributed and experienced in vastly different ways by different social groups and actors. Cases and examples will be drawn from near to hand and around the world.\n",
      "Sem Theory of Alg & Comp (CS 7890)\n",
      "The theory seminar will meet weekly for lectures by graduate students, faculty, and researchers emphasizing work in progress and recent results related to theory of computing.\n",
      "Text Mining Hist & Literature (INFO 6350)\n",
      "The course will introduce methods for computer assisted analysis of historical text collections. It will cover corpus curation, representing text as data, building statistical models from text, and interpreting results. Statistical and programming concepts will be introduced as needed. The class will also reflect on how computational methods fit with existing practices in the humanities, and how we can use models as complements to our own interpretations. Following the course, students will be able to assist faculty in computer assisted scholarship.\n",
      "Text Mining Hist & Literature (INFO 3350)\n",
      "The course will introduce methods for computer assisted analysis of historical text collections. It will cover corpus curation, representing text as data, building statistical models from text, and interpreting results. Statistical and programming concepts will be introduced as needed. The class will also reflect on how computational methods fit with existing practices in the humanities, and how we can use models as complements to our own interpretations. Following the course, students will be able to assist faculty in computer assisted scholarship.\n",
      "Master of Engineering Project (CS 5999)\n",
      "Independent or group project under the direction of a CS field member or researcher. Projects involve the development of a computer science application (software or hardware) useful in exploring and/or solving an engineering problem with a computer science focus.\n"
     ]
    }
   ],
   "source": [
    "course_rec(\"fascinating computer science theory\")"
   ]
  },
  {
   "cell_type": "code",
   "execution_count": 9,
   "id": "5da7f116",
   "metadata": {},
   "outputs": [
    {
     "name": "stdout",
     "output_type": "stream",
     "text": [
      "Natural Lang Process (LING 4474)\n",
      "This course constitutes an introduction to natural language processing (NLP), the goal of which is to enable computers to use human languages as input, output, or both. NLP is at the heart of many of todays most exciting technological achievements, including machine translation, automatic conversational assistants and Internet search. Possible topics include methods for handling underlying linguistic phenomena (e.g., syntactic analysis, word sense disambiguation and discourse analysis) and vital emerging applications (e.g., machine translation, sentiment analysis, summarization and information extraction). \n",
      "Natural Lang Process (CS 4740)\n",
      "This course constitutes an introduction to natural language processing (NLP), the goal of which is to enable computers to use human languages as input, output, or both. NLP is at the heart of many of todays most exciting technological achievements, including machine translation, automatic conversational assistants and Internet search. Possible topics include methods for handling underlying linguistic phenomena (e.g., syntactic analysis, word sense disambiguation and discourse analysis) and vital emerging applications (e.g., machine translation, sentiment analysis, summarization and information extraction). \n",
      "Natural Lang Process (COGST 4740)\n",
      "This course constitutes an introduction to natural language processing (NLP), the goal of which is to enable computers to use human languages as input, output, or both. NLP is at the heart of many of todays most exciting technological achievements, including machine translation, automatic conversational assistants and Internet search. Possible topics include methods for handling underlying linguistic phenomena (e.g., syntactic analysis, word sense disambiguation and discourse analysis) and vital emerging applications (e.g., machine translation, sentiment analysis, summarization and information extraction). \n",
      "Natural Language Processing (CS 5740)\n",
      "This course constitutes an introduction to natural language processing (NLP), the goal of which is to enable computers to use human languages as input, output, or both. NLP is at the heart of many of todays most exciting technological achievements, including machine translation, automatic conversational assistants and Internet search. Possible topics include: methods for handling underlying linguistic phenomena (e.g., syntactic analysis, word sense disambiguation and discourse analysis) and vital emerging applications (e.g., machine translation, sentiment analysis, summarization and information extraction).\n",
      "Advanced Language Technologies (CS 6740)\n",
      "Graduate level introduction to technologies for the computational treatment of information in human language form, covering modern natural language processing (NLP) and/or information retrieval (IR). Possible topics include language modeling, word embeddings, text categorization and clustering, information extraction, computational syntactic and semantic formalisms, grammar induction, machine translation, latent semantic analysis (LSI), and clickthrough data for web search.\n",
      "Russian For Russian Specialist (RUSSA 6633)\n",
      "Designed for students whose areas of study require advanced active control of the language. Fine points of translation, usage, and style are discussed and practiced. Syllabus varies from year to year. May be taken more than once. Detailed description at russian.cornell.edu.\n",
      "Learning Robot Decision Making (CS 6756)\n",
      "Advances in machine learning have fueled progress towards deploying real world robots from assembly lines to self driving. Learning to make better decisions for robots presents a unique set of challenges. Robots must be safe, learn online from interactions with the environment, and predict the intent of their human partners. This graduate level course dives into the various paradigms for robot learning and decision making and heavily focuses on algorithms, practical considerations, and features a strong programming component.\n",
      "Natural Lang Processing & ML (CS 6741)\n",
      "Robust language understanding has the potential to transform how we interact with computers, extract information from text and study language on large scale. This research oriented course examines machine learning and inference methods for recovering language structure and meaning. Possible topics include structured prediction and deep learning, methods for situated language understanding, language grounding, and learning to generate text.\n",
      "Conversation Practice (RUSSA 1103)\n",
      "Reinforces the speaking skills learned in RUSSA 1121. Homework includes assignments that must be done in the language lab or on the students own computer. Detailed description at russian.cornell.edu.\n",
      "Elem Russian Through Film (RUSSA 1121)\n",
      "Gives a thorough grounding in all the language skills; listening, speaking, reading, and writing. Course materials include clips from original Russian films and televisions programs. Homework includes assignments that must be done in the language lab or on the students own computers. Note the RUSSA 1103 option. Detailed description at russian.cornell.edu.\n",
      "Int. Hindi Rdg-Wrtg Hrtg Std I (HINDI 2203)\n",
      "Throughout this course sequence all aspects of language learning are practiced; listening, speaking, reading, and writing. Video materials are used and the emphasis is on the conversational aspect of the language.\n",
      "Machine Learning Engineering (CS 5781)\n",
      "Machine learning is increasingly driven by advances in the underlying hardware and software systems. This course will focus on the challenges inherent to engineering machine learning systems to be correct, robust, and fast. The course walks through the development of a software library for machine learning from scratch, with each assignment requiring students to build models in their own library. Topics will include: tensor languages and auto differentiation; model debugging, testing, and visualization; fundamentals of GPUs; compression and low power inference. Guest lectures will cover current topics from ML engineers.\n",
      " \n",
      "Human-Robot Interaction (MAE 6710)\n",
      "As robots move from factory floors and battlefields into homes, offices, schools, and hospitals, how can we build robotic systems made for human interaction?  Course will cover core engineering, computational, and experimental techniques in human robot interaction (HRI). Lectures will cover key algorithms in Probabilistic Robotics, including Bayesian Networks, Markov Models, HMMs, Kalman and Particle Filters, MDP and POMPD, Supervised Learning, and Reinforcement Learning. Seminal and recent papers in HRI will be discussed, including topics such as: generating intentional action, reasoning about humans, social navigation, teamwork and collaboration, machine learning with humans in the loop, and human robot dialog. Students will learn methods for designing and analyzing HRI experiments.  Presentation of papers in class, and an HRI related research project in teams will be required.  Intended for M.Eng to PhD students from multiple disciplines including MAE, CS, ECE and IS.\n",
      "Human-Robot Interaction (CS 6754)\n",
      "As robots move from factory floors and battlefields into homes, offices, schools, and hospitals, how can we build robotic systems made for human interaction?  Course will cover core engineering, computational, and experimental techniques in human robot interaction (HRI). Lectures will cover key algorithms in Probabilistic Robotics, including Bayesian Networks, Markov Models, HMMs, Kalman and Particle Filters, MDP and POMPD, Supervised Learning, and Reinforcement Learning. Seminal and recent papers in HRI will be discussed, including topics such as: generating intentional action, reasoning about humans, social navigation, teamwork and collaboration, machine learning with humans in the loop, and human robot dialog. Students will learn methods for designing and analyzing HRI experiments.  Presentation of papers in class, and an HRI related research project in teams will be required.  Intended for M.Eng to PhD students from multiple disciplines including MAE, CS, ECE and IS.\n",
      "Teaching English (EDUC 4200)\n",
      "When educators teach English to speakers of other languages, what assumptions do they often bring, about learners goals, abilities, and backgrounds, and about the language learning process? Which versions of English are often valued more highly in TESOL programs and materials? How can we create opportunities for English language learning, while also recognizing the knowledge that learners already hold? Through reflections on readings, simulations, and weekly fieldwork, students will deepen their understanding of what it means to teach English to non native speakers. Students will analyze and apply TESOL methodologies and receive feedback on their lesson planning and delivery in order to strengthen their teaching practice. Participants will learn from each others situated experiences and increase their awareness of issues involved in global migrations and language learning.\n",
      "Intermed Compos&Conver (RUSSA 2203)\n",
      "Guided conversation, translation, reading, pronunciation, and grammar review, emphasizing the development of accurate and idiomatic expression in the language. Course materials include video clips from an original Russian feature film and work with Russian web sites, in addition to the textbook. Detailed description at russian.cornell.edu.\n",
      "Teaching German As Foreign Lan (GERST 5070)\n",
      "Designed to familiarize students with current thought and theories in the field of applied linguistics and language pedagogy.  Introduces different models of foreign language approaches and discusses various practices for the foreign language classroom.  Special consideration is given to topics such as language acquisition progression, planning syllabi, creating tasks and projects, designing classroom tests, and evaluating students performance.  Participants conduct an action research project.\n",
      "Elementary Polish I (POLSH 1131)\n",
      "In this course, students work on their ability to speak, write, read, and understand contemporary Polish. Students will also develop their intercultural competency. The instructor uses communicative language teaching with emphasis on structured input. Students use the textbook and workbook Hurra! Po polsku 1 supplemented by Polish English chapter dictionaries. This class covers chapters 0 9. If a student is not sure of his or her language level, he or she can contact the Polish instructor, Ewa Bachminska, at eb583@cornell.edu.\n",
      "Intermediate Polish I (POLSH 2033)\n",
      "In this course, students continue working on their ability to speak, write, read, and understand contemporary Polish.  Students will also enhance their intercultural competency.  The instructor uses communicative language teaching with emphasis on structured input.  Students use the textbook and workbook Hurra!  Po polsku 2 supplemented by Polish English chapter dictionaries.  This class covers chapters 1 10.  If a student is not sure of his or her language level, he or she can contact the Polish instructor, Ewa Bachminska, at eb583@cornell.edu.\n",
      "Advanced Machine Learning (CS 6780)\n",
      "Gives a graduate level introduction to machine learning and in depth coverage of new and advanced methods in machine learning, as well as their underlying theory. Emphasizes approaches with practical relevance and discusses a number of recent applications of machine learning in areas like information retrieval, recommender systems, data mining, computer vision, natural language processing and robotics. An open research project is a major part of the course. \n"
     ]
    }
   ],
   "source": [
    "course_rec(\"advanced natural language processing and robot learning\", 20)"
   ]
  },
  {
   "cell_type": "code",
   "execution_count": 10,
   "id": "81f61bf0",
   "metadata": {},
   "outputs": [
    {
     "name": "stdout",
     "output_type": "stream",
     "text": [
      "Machine Learning Engineering (CS 5781)\n",
      "Machine learning is increasingly driven by advances in the underlying hardware and software systems. This course will focus on the challenges inherent to engineering machine learning systems to be correct, robust, and fast. The course walks through the development of a software library for machine learning from scratch, with each assignment requiring students to build models in their own library. Topics will include: tensor languages and auto differentiation; model debugging, testing, and visualization; fundamentals of GPUs; compression and low power inference. Guest lectures will cover current topics from ML engineers.\n",
      " \n",
      "Advanced Machine Learning (CS 6780)\n",
      "Gives a graduate level introduction to machine learning and in depth coverage of new and advanced methods in machine learning, as well as their underlying theory. Emphasizes approaches with practical relevance and discusses a number of recent applications of machine learning in areas like information retrieval, recommender systems, data mining, computer vision, natural language processing and robotics. An open research project is a major part of the course. \n",
      "Intro to Machine Learning (CS 5780)\n",
      "The course provides an introduction to machine learning, focusing on supervised learning and its theoretical foundations. Topics include regularized linear models, boosting, kernels, deep networks, generative models, online learning, and ethical questions arising in ML applications.\n",
      "Intro to Machine Learning (CS 4780)\n",
      "The course provides an introduction to machine learning, focusing on supervised learning and its theoretical foundations. Topics include regularized linear models, boosting, kernels, deep networks, generative models, online learning, and ethical questions arising in ML applications.\n",
      "Principles of Large-Scale ML (CS 5777)\n",
      "An introduction to the mathematical and algorithms design principles and tradeoffs that underlie large scale machine learning on big training sets. Topics include: stochastic gradient descent and other scalable optimization methods, mini batch training, accelerated methods, adaptive learning rates, parallel and distributed training, and quantization and model compression.\n",
      "Principles of Large-Scale ML (CS 4787)\n",
      "An introduction to the mathematical and algorithms design principles and tradeoffs that underlie large scale machine learning on big training sets. Topics include: stochastic gradient descent and other scalable optimization methods, mini batch training, accelerated methods, adaptive learning rates, parallel and distributed training, and quantization and model compression.\n",
      "Adv Topics in Machine Learning (CS 6784)\n",
      "Extends and complements CS 4780 and CS 5780, giving in depth coverage of new and advanced methods in machine learning.\n",
      "Applied Machine Learning (ORIE 5750)\n",
      "Learn and apply key concepts of modeling, analysis and validation from machine learning, data mining and signal processing to analyze and extract meaning from data. Implement algorithms and perform experiments on images, text, audio and mobile sensor measurements. Gain working knowledge of supervised and unsupervised techniques including classification, regression, clustering, feature selection, and dimensionality reduction.\n",
      "Applied Machine Learning (ECE 5414)\n",
      "Learn and apply key concepts of modeling, analysis and validation from machine learning, data mining and signal processing to analyze and extract meaning from data. Implement algorithms and perform experiments on images, text, audio and mobile sensor measurements. Gain working knowledge of supervised and unsupervised techniques including classification, regression, clustering, feature selection, and dimensionality reduction.\n",
      "Applied Machine Learning (CS 5785)\n",
      "Learn and apply key concepts of modeling, analysis and validation from machine learning, data mining and signal processing to analyze and extract meaning from data. Implement algorithms and perform experiments on images, text, audio and mobile sensor measurements. Gain working knowledge of supervised and unsupervised techniques including classification, regression, clustering, feature selection, and dimensionality reduction.\n"
     ]
    }
   ],
   "source": [
    "course_rec(\"math courses with applications to machine learning and computer science\")"
   ]
  },
  {
   "cell_type": "code",
   "execution_count": 11,
   "id": "967bae48",
   "metadata": {},
   "outputs": [
    {
     "name": "stdout",
     "output_type": "stream",
     "text": [
      "Epistemology (PHIL 3610)\n",
      "This course will be an advanced introduction to some contemporary debates in epistemology. We will start by considering skeptical arguments that we cannot really know whether the world is the way it appears to us. We will look at different strategies to respond to such skeptical arguments, in particular contextualism, and explore questions concerning the nature of knowledge and the relation between knowledge and other epistemologically significant concepts, such as certainty, justification, and evidence. We will also look at Bayesian epistemology and its theoretical underpinnings, at knowledge first approaches to epistemology, at the relation between knowledge and action, and at the compatibility of traditional epistemology with formal epistemology. Also will explore the notion of common knowledge, and issues in social epistemology.\n",
      "Syntax I (LING 6403)\n",
      "An advanced introduction to syntactic theory within the principles and parameters/minimalist frameworks. Topics include phrase structure, argument structure (unaccusative verbs, unergative verbs, double object constructions), principles of word order, and the binding theory.\n",
      "Syntax I (LING 4403)\n",
      "An advanced introduction to syntactic theory within the principles and parameters/minimalist frameworks. Topics include phrase structure, argument structure (unaccusative verbs, unergative verbs, double object constructions), principles of word order, and the binding theory.\n",
      "Aristotle (PHIL 6203)\n",
      "We will study several of Aristotles major works, including the Categories, Physics, Posterior Analytics, Metaphysics, and Nicomachean Ethics. Topics include nature and change, form and matter, the nature of happiness, the nature of the soul, and knowledge and first principles.\n",
      "Aristotle (PHIL 3203)\n",
      "We will study several of Aristotles major works, including the Categories, Physics, Posterior Analytics, Metaphysics, and Nicomachean Ethics. Topics include nature and change, form and matter, the nature of happiness, the nature of the soul, and knowledge and first principles.\n",
      "Aristotle (CLASS 3664)\n",
      "We will study several of Aristotles major works, including the Categories, Physics, Posterior Analytics, Metaphysics, and Nicomachean Ethics. Topics include nature and change, form and matter, the nature of happiness, the nature of the soul, and knowledge and first principles.\n",
      "Epistemology (PHIL 6610)\n",
      "An intensive seminar on a special topic in epistemology to be determined by the instructor. Potential topics include: What are the limits of knowledge? What is the extent and nature of our knowledge of our own minds? How do we gain knowledge through particular sources such as perception, testimony, memory, or reasoning? Readings may be drawn from historical or contemporary sources.\n",
      "Origins of 20th C Philosophy (PHIL 6180)\n",
      "Philosophical writings from the late 19th century to early 20th century, by William James, Gottlob Frege, Bertrand Russell, among others. Topics: metaphysics, epistemology, philosophy of mind and language, and perhaps some value theory. Attention will be paid to relations between this literature and more recent work.\n",
      "Origins of 20th C Philosophy (PHIL 3180)\n",
      "Philosophical writings from the late 19th century to early 20th century, by William James, Gottlob Frege, Bertrand Russell, among others. Topics: metaphysics, epistemology, philosophy of mind and language, and perhaps some value theory. Attention will be paid to relations between this literature and more recent work.\n",
      "Semantics I (PHIL 4730)\n",
      "Introduces methods for theorizing about meaning within generative grammar. These techniques allow the creation of grammars that pair syntactic structures with meanings. Students look at several empirical areas in detail, among them complementation (combining heads with their arguments), modification, conjunction, definite descriptions, relative clauses, traces, bound pronouns, and quantification. An introduction to logical and mathematical concepts used in linguistic semantics (e.g., set theory, functions and their types, and the lambda notation for naming linguistic meanings) is included in the course.\n"
     ]
    }
   ],
   "source": [
    "course_rec(\"metaphysics and epistemology\")"
   ]
  },
  {
   "cell_type": "code",
   "execution_count": 12,
   "id": "c37d91f2",
   "metadata": {},
   "outputs": [
    {
     "name": "stdout",
     "output_type": "stream",
     "text": [
      "Introduction to Squash (PE 1465)\n",
      "A beginners course. Rules of the game and basic strokes are taught.  All necessary equipment is furnished. Please note: no black soled shoes are allowed on the courts and safety glasses are required to be worn at all times.\n",
      "Outdoor Advanced Tennis (PE 1447)\n",
      "For players with high school team or tournament experience. Skills emphasized are spins, serve and return of serve, volley, overhead smash, court positioning, and playing strategies. Class will meet twice a week for 1 1/2 hours.\n",
      "Outdoor Intermediate Tennis (PE 1446)\n",
      "Review and further instruction in strokes: forehand, backhand, serve, volley, and lob. Topspin and underspin are covered along with doubles strategy. All equipment is furnished.\n",
      "Intermediate Squash (PE 1466)\n",
      "More advanced techniques than beginning squash. All necessary equipment is furnished. Please note: no black soled shoes are allowed on the courts and safety glasses are required to be worn at all times.\n",
      "Outdoor Beginning Tennis (PE 1445)\n",
      "Instruction and practice in the basic skills of the game. Grip, serve, forehand, backhand, and lob are areas covered along with scoring systems. All equipment is furnished.\n",
      "Bowling (PE 1300)\n",
      "Instruction available during each class session for the Beginning or Intermediate level bowler. Choice of two 45 minute classes per week or one class for 90 minutes. Shoe rental included in course fee which covers approximately 72 games.\n",
      "Soccer (PE 1565)\n",
      "This class will cover the fundamental skills of soccer: passing, trapping, heading, dribbling and shooting. Team tactics are covered specific to the outdoor game. \n",
      "Intermediate Figure Skating (PE 1546)\n",
      "Students in this class should have previous experience (ability to skate forward and backward and safely stop). The course will review the skills taught in the PE1545 and PE1540, as a foundation, and move into learning more advanced turns, stops, and basic jumps and spins. Course will also cover skate safety, proper fitting, and body mechanics of skating. An assessment will be done the first day of class and students grouped accordingly.\n",
      "Advanced Golf (PE 1321)\n",
      "Students must play a minimum of 10 rounds of nine holes to receive credit. Students must be EXPERIENCED golfers (i.e. they MUST have golf playing experience on a course) and have their own set of clubs. Students who do not have the appropriate skills will be removed from the course and will not receive a refund.\n",
      "Advanced Figure Skating (PE 1547)\n",
      "This course is for the advanced figure skater. Permission of instructor if havent previously taken PE1546 or PE1547 in 2021 2022. Skaters will be learning advanced skills including jumps, spins, turns, edge moves, step sequences, and ice dance patterns. Students will be working independently on ice at times, as well as, group instruction, TBD by instructor based on level of participants enrolled.\n"
     ]
    }
   ],
   "source": [
    "course_rec(\"learn to play tennis\")"
   ]
  },
  {
   "cell_type": "code",
   "execution_count": 13,
   "id": "118c73dc",
   "metadata": {},
   "outputs": [
    {
     "name": "stdout",
     "output_type": "stream",
     "text": [
      "Intermediate Figure Skating (PE 1546)\n",
      "Students in this class should have previous experience (ability to skate forward and backward and safely stop). The course will review the skills taught in the PE1545 and PE1540, as a foundation, and move into learning more advanced turns, stops, and basic jumps and spins. Course will also cover skate safety, proper fitting, and body mechanics of skating. An assessment will be done the first day of class and students grouped accordingly.\n",
      "OADI Programs (PE 1661)\n",
      "Outdoors sampler course for PSP students through the PSP program. Activities include events like hiking, canoeing, and trail running.\n",
      "Advanced Figure Skating (PE 1547)\n",
      "This course is for the advanced figure skater. Permission of instructor if havent previously taken PE1546 or PE1547 in 2021 2022. Skaters will be learning advanced skills including jumps, spins, turns, edge moves, step sequences, and ice dance patterns. Students will be working independently on ice at times, as well as, group instruction, TBD by instructor based on level of participants enrolled.\n",
      "Open Gym (PE 1246)\n",
      "This Open Gym PE course offers an exclusive time and space to students who have previous experience with exercise. The Appel Fitness Center offers a wide variety of free weight and cardio equipment, and experience with this equipment is mandatory for this course. A CFC Personal Trainer will be on staff to supervise and assist students with their training, but independent exercise should be expected.\n",
      "Backpacking The Finger Lakes (PE 1610)\n",
      "Escape from campus to explore the glens, gorges, wooded hills, waterfalls, vistas and trails of the Finger Lakes region. Learn basic outdoor living skills, including hiking, navigation, equipment selection and use, camping, backcountry cooking, and safety.\n",
      "Trail Running (PE 1608)\n",
      "Tired of that same old route on campus? Come trail running! Well get you out on the spectacular local trails, provide training tips, teach you how to navigate in the woods, and run you over hill and dale, through forests, fields, and mudpits. It will be a confidence building, life changing, attitude adjusting experience. Well start easy and gradually build over the duration of the course, but you should be able to run comfortably for 50 minutes. Group pace, no one will be left behind.\n",
      "Recreational Biking (PE 1668)\n",
      "Recreational Biking is for those who want to explore Ithaca and Tompkins county under their own power by bike. Roads and bike paths will lead you right from campus to waterfalls, scenic views and ice cream! In addition to rides of 8 15 miles each day, youll learn how to take care of your bike and do some basic repairs. Rides will not be fast paced, but Ithaca has lots of hills so reasonable physical fitness and the ability to comfortably ride a bike are essential. \n",
      "Bowling (PE 1300)\n",
      "Instruction available during each class session for the Beginning or Intermediate level bowler. Choice of two 45 minute classes per week or one class for 90 minutes. Shoe rental included in course fee which covers approximately 72 games.\n",
      "Wilderness 1st Responder (PE 1626)\n",
      "This course provides the prerequisite training and certification necessary for employment as a professional outdoor instructor at nationally recognized programs such as NOLS and Outward Bound. The curriculum goes beyond the basics needed for first aid certification to emphasize the skills and knowledge needed in backcountry rescue situations when extended care may be needed.\n",
      "Recreational Canoeing (PE 1671)\n",
      "This class is designed to teach you the fundamentals of canoeing in a relaxed environment. Enjoy being outside for class as you explore Beebe Lake and other Finger Lakes area waterways. Meet new friends, learn new skills, and experience nature all while you keep active. \n"
     ]
    }
   ],
   "source": [
    "course_rec(\"adventurous outdoor PE classes\")"
   ]
  },
  {
   "cell_type": "code",
   "execution_count": 14,
   "id": "27031732",
   "metadata": {},
   "outputs": [
    {
     "name": "stdout",
     "output_type": "stream",
     "text": [
      "Data Struct & Functional Progr (CS 3110)\n",
      "Advanced programming course that emphasizes functional programming techniques and data structures. Programming topics include recursive and higher order procedures, models of programming language evaluation and compilation, type systems, and polymorphism. Data structures and algorithms covered include graph algorithms, balanced trees, memory heaps, and garbage collection. Also covers techniques for analyzing program performance and correctness.\n",
      "Visual Data Analytics for Web (INFO 5100)\n",
      "This course will introduce students to working with data in the context of modern web applications. These include data representation with relational and non relational databases, data mining to find patterns and make predictions, and graphical presentation for visualization.\n",
      "Data-Driven Web Applications (INFO 3300)\n",
      "This course will introduce students to working with data in the context of modern web applications. These include data representation with relational and non relational databases, data mining to find patterns and make predictions, and graphical presentation for visualization.\n",
      "Data-Driven Web Applications (CS 3300)\n",
      "This course will introduce students to working with data in the context of modern web applications. These include data representation with relational and non relational databases, data mining to find patterns and make predictions, and graphical presentation for visualization.\n",
      "Obj-Oriented Prog & Data Struc (ENGRD 2110)\n",
      "Intermediate programming in a high level language and introduction to computer science. Topics include object oriented programming (classes, objects, subclasses, types), graphical user interfaces, algorithm analysis (asymptotic complexity, big O notation), recursion, testing, program correctness (loop invariants), searching/sorting, data structures (lists, trees, stacks, queues, heaps, search trees, hash tables, graphs), graph algorithms. Java is the principal programming language.\n",
      "Obj-Oriented Prog & Data Struc (CS 2110)\n",
      "Intermediate programming in a high level language and introduction to computer science. Topics include object oriented programming (classes, objects, subclasses, types), graphical user interfaces, algorithm analysis (asymptotic complexity, big O notation), recursion, testing, program correctness (loop invariants), searching/sorting, data structures (lists, trees, stacks, queues, heaps, search trees, hash tables, graphs), graph algorithms. Java is the principal programming language.\n",
      "Computer System Organization (CS 3410)\n",
      "Introduction to computer organization, systems programming and the hardware/ software interface. Topics include instruction sets, computer arithmetic, datapath design, data formats, addressing modes, memory hierarchies including caches and virtual memory, I/O devices, bus based I/O systems, and multicore architectures. Students learn assembly language programming and design a pipelined RISC processor.\n",
      "Intro Computing Using Python (CS 1110)\n",
      "Programming and problem solving using Python. Emphasizes principles of software development, style, and testing. Topics include procedures and functions, iteration, recursion, arrays and vectors, strings, an operational model of procedure and function calls, algorithms, exceptions, object oriented programming. Weekly labs provide guided practice on the computer, with staff present to help. \n",
      "Python Programming (HADM 6710)\n",
      "Introduction to programming in Python with an emphasis on Hospitality applications. No previous programming experience is required. Topics covered include programming basics, file input and output, Excel integration, database integration, and data analysis.\n",
      "Python Programming (HADM 3710)\n",
      "Introduction to programming in Python with an emphasis on Hospitality applications. No previous programming experience is required. Topics covered include programming basics, file input and output, Excel integration, database integration, and data analysis.\n"
     ]
    }
   ],
   "source": [
    "course_rec(\"advanced data structures and object-oriented programming\")"
   ]
  },
  {
   "cell_type": "code",
   "execution_count": 15,
   "id": "7362fe92",
   "metadata": {},
   "outputs": [
    {
     "name": "stdout",
     "output_type": "stream",
     "text": [
      "Photography for Non-Majors (ART 1601)\n",
      "This class is an aesthetic and practical education within the realm of images. Students will become capable in the processes of photography and delve into the history and thinking surrounding the medium. They will learn to relate their images to other images which they have made, as well as to contemporary and historical images. The class includes technical lessons and aesthetic explorations. The class will advance via frequent group critiques. This class is for students who are excited about using photography as a creative and inquiring medium, and concurrently gaining technical knowledge to make this happen.\n",
      "Photography: Intro Photography (ART 2601)\n",
      "This course explores camera and lens as devices that frame and translate three dimensional space to a two dimensional surface. Through assignments and individual investigation, students acquire a deeper understanding of visual perception and photography as medium for personal expression. This course introduces students to photographic processes and assumes no prior knowledge of photography.\n",
      "Intro to Photography in Rome (ART 1602)\n",
      "Drawing on Romes historic and contemporary resources for inspiration, this course introduces photography as a means to visual interpretation and authorship. It addresses concepts essential to lens based artistic practice, as well as the technical foundations of digital photography. In this course students learn about diverse approaches to image making with the camera, and develop a body of work referencing their Rome experience. The course includes lectures, critiques, studio assignments, and visits to museums, galleries, and photography studios.\n",
      "The Photobook (ARTH 6545)\n",
      "Topic 2022: Tutorial. The history of photography as an art has been mostly on the page, not on the wall.  This course refocuses the standard museum and gallery history of photography back to the book.  Significantly, it takes advantage, through field trips, of the proximity of Cornell to the George Eastman House in Rochester, whose library houses the most important photobooks from around the world, including the best creations from Russia, Japan, and the United States.  Students will learn the basics of photographic printing, book construction, the role of the photobook in the rise of the artists book in the twentieth century, as well as advanced skills in analysis of the photographic picture and sequencing.  Major themes will include the scientific photobook of the nineteenth century, the documentary photobook of the 1930s, the propaganda photobook of the communist era, the postwar photobooks of Japan, the personal/domestic turn of the 1970s, and the present state of the photobook in the digital era.\n",
      "The Photobook (ARTH 4545)\n",
      "Topic for Fall 2022: Tutorial. The history of photography as an art has been mostly on the page, not on the wall.  This course refocuses the standard museum and gallery history of photography back to the book.  Significantly, it takes advantage, through field trips, of the proximity of Cornell to the George Eastman House in Rochester, whose library houses the most important photobooks from around the world, including the best creations from Russia, Japan, and the United States.  Students will learn the basics of photographic printing, book construction, the role of the photobook in the rise of the artists book in the twentieth century, as well as advanced skills in analysis of the photographic picture and sequencing.  Major themes will include the scientific photobook of the nineteenth century, the documentary photobook of the 1930s, the propaganda photobook of the communist era, the postwar photobooks of Japan, the personal/domestic turn of the 1970s, and the present state of the photobook in the digital era. \n",
      "Latin American Documentary (SPAN 3710)\n",
      "Documentaries are born out of the necessity to capture the real and to tell a truth.  When we watch documentaries, we tend to comfortably rely on that claim and, often, take what they teach us as indisputable evidence of what reality is.  In this course, we will put into questions the reality that documentaries portray and the possibility itself of portraying reality by discussing a selection of Latin American documentaries that raise important issues regarding the ethics and politics of representation. In our discussions, we will critically engage with the boundaries of the cinematic frame and debate the ethical responsibilities of the filmmaker, the value and the political and social impact of the image, the role of the spectator, and the implications of filming and being filmed by an other.\n",
      "Painting Intent & Context (ART 3202)\n",
      "Students are encouraged to develop visual applications or interpretations of a chosen subject matter, whether this subject matter is inherently visual or non visual (e.g., experientially or conceptually manifested outside of a visual frame of reference). Emphasis is placed on experimentation with pictorial languages and identifying an appropriate scale of production and mode of delivery, ranging from two dimensional picture plane to site specific installation.\n",
      "Intro to Drawing in Rome (ART 1504)\n",
      "This course introduces students to principles and techniques of representation. Emphasis is on creating the illusion of space and form through line, the rendering of light and shade, and studies in perspective. Students have the opportunity to explore various media such as charcoal, chalk, pencil, pen, ink, and wash. Assumes no prior knowledge of drawing.\n",
      "Radiology Service (VTMED 5610)\n",
      "A two week clinical experience in the imaging section of the Cornell University Hospital for Animals.  Students use radiographic, ultrasonographic, CT, MRI, and nuclear medicine imaging techniques to evaluate animal patients under treatment in the Cornell University Hospital for Animals.  Students obtain and interpret radiographic and ultrasonographic studies with guidance from radiology faculty, residents and technical staff.  On line teaching materials  are used to familiarize students with radiographic and  cross sectional imaging examples of common diseases of large and small animal species.  Small group discussions are included to present and discuss the teaching files and current cases, in addition to the safe use of x ray producing equipment.\n",
      "Document for Preservation (CRP 5600)\n",
      "Methods of identifying, recording, collecting, processing, and analyzing information dealing with historic and architecturally significant structures, sites, and objects. Students are assigned common problems in documentation at various scales and propose solutions.\n"
     ]
    }
   ],
   "source": [
    "course_rec(\"how to take compelling and fascinating photos\")"
   ]
  },
  {
   "cell_type": "code",
   "execution_count": 29,
   "id": "451c9982",
   "metadata": {},
   "outputs": [
    {
     "name": "stdout",
     "output_type": "stream",
     "text": [
      "Problems in Semantics (PHIL 6700)\n",
      "In this class we will discuss the properties of truth conditional semantics, with a focus on those phenomena that have been used to question the adequacy of such systems. The course starts of by discussing the fundamental (formal) properties of truth conditional semantics, and the notion of interpretation relative to a model. Then, we will explore different aspects of the grammar of natural languages that have been invoked against such semantic systems, such as vagueness and degree expressions, presuppositional content, indexicals and lexical semantics, a.o.\n",
      "Problems in Semantics (PHIL 3700)\n",
      "In this class we will discuss the properties of truth conditional semantics, with a focus on those phenomena that have been used to question the adequacy of such systems. The course starts of by discussing the fundamental (formal) properties of truth conditional semantics, and the notion of interpretation relative to a model. Then, we will explore different aspects of the grammar of natural languages that have been invoked against such semantic systems, such as vagueness and degree expressions, presuppositional content, indexicals and lexical semantics, a.o.\n",
      "Problems in Semantics (LING 6333)\n",
      "In this class we will discuss the properties of truth conditional semantics, with a focus on those phenomena that have been used to question the adequacy of such systems. The course starts of by discussing the fundamental (formal) properties of truth conditional semantics, and the notion of interpretation relative to a model. Then, we will explore different aspects of the grammar of natural languages that have been invoked against such semantic systems, such as vagueness and degree expressions, presuppositional content, indexicals and lexical semantics, a.o.\n",
      "Problems in Semantics (LING 3333)\n",
      "In this class we will discuss the properties of truth conditional semantics, with a focus on those phenomena that have been used to question the adequacy of such systems. The course starts of by discussing the fundamental (formal) properties of truth conditional semantics, and the notion of interpretation relative to a model. Then, we will explore different aspects of the grammar of natural languages that have been invoked against such semantic systems, such as vagueness and degree expressions, presuppositional content, indexicals and lexical semantics, a.o.\n",
      "Problems in Semantics (COGST 6333)\n",
      "In this class we will discuss the properties of truth conditional semantics, with a focus on those phenomena that have been used to question the adequacy of such systems. The course starts of by discussing the fundamental (formal) properties of truth conditional semantics, and the notion of interpretation relative to a model. Then, we will explore different aspects of the grammar of natural languages that have been invoked against such semantic systems, such as vagueness and degree expressions, presuppositional content, indexicals and lexical semantics, a.o.\n",
      "Problems in Semantics (COGST 3330)\n",
      "In this class we will discuss the properties of truth conditional semantics, with a focus on those phenomena that have been used to question the adequacy of such systems. The course starts of by discussing the fundamental (formal) properties of truth conditional semantics, and the notion of interpretation relative to a model. Then, we will explore different aspects of the grammar of natural languages that have been invoked against such semantic systems, such as vagueness and degree expressions, presuppositional content, indexicals and lexical semantics, a.o.\n",
      "Epistemology (PHIL 3610)\n",
      "This course will be an advanced introduction to some contemporary debates in epistemology. We will start by considering skeptical arguments that we cannot really know whether the world is the way it appears to us. We will look at different strategies to respond to such skeptical arguments, in particular contextualism, and explore questions concerning the nature of knowledge and the relation between knowledge and other epistemologically significant concepts, such as certainty, justification, and evidence. We will also look at Bayesian epistemology and its theoretical underpinnings, at knowledge first approaches to epistemology, at the relation between knowledge and action, and at the compatibility of traditional epistemology with formal epistemology. Also will explore the notion of common knowledge, and issues in social epistemology.\n",
      "Prove It! (MATH 3040)\n",
      "In mathematics, the methodology of proof provides a central tool for confirming the validity of mathematical assertions, functioning much as the experimental method does in the physical sciences. In this course, students learn various methods of mathematical proof, starting with basic techniques in propositional and predicate calculus and in set theory and combinatorics, and then moving to applications and illustrations of these via topics in one or more of the three main pillars of mathematics: algebra, analysis, and geometry. Since cogent communication of mathematical ideas is important in the presentation of proofs, the course emphasizes clear, concise exposition.\n",
      "Puzzles and Paradoxes (PHIL 2300)\n",
      "This course will survey a number of famous paradoxes about the nature of time, identity, logic, science, belief, decision, and value. Some of these paradoxes have widely accepted answers, but many do not. Paradoxes include (but are not limited to) Zenos paradoxes, the sorites paradox, the liar paradox, paradoxes of probability, the doomsday and simulation arguments, Newcombs puzzle, and the trolley problem. These paradoxes will be used as a stepping stone to deeper philosophical questions. Some of the questions well tackle include: Is time real? What is a person? Is infinity coherent? How is science possible? What is knowledge? What is it to be rational? What should we do? Does God exist? And finally, why is death bad?\n",
      "Puzzles and Paradoxes (COGST 2305)\n",
      "This course will survey a number of famous paradoxes about the nature of time, identity, logic, science, belief, decision, and value. Some of these paradoxes have widely accepted answers, but many do not. Paradoxes include (but are not limited to) Zenos paradoxes, the sorites paradox, the liar paradox, paradoxes of probability, the doomsday and simulation arguments, Newcombs puzzle, and the trolley problem. These paradoxes will be used as a stepping stone to deeper philosophical questions. Some of the questions well tackle include: Is time real? What is a person? Is infinity coherent? How is science possible? What is knowledge? What is it to be rational? What should we do? Does God exist? And finally, why is death bad?\n"
     ]
    }
   ],
   "source": [
    "course_rec(\"creating a logical and mathematical framework for truth\")"
   ]
  },
  {
   "cell_type": "code",
   "execution_count": null,
   "id": "1db4deb6",
   "metadata": {},
   "outputs": [],
   "source": []
  }
 ],
 "metadata": {
  "kernelspec": {
   "display_name": "huggingface-kernel",
   "language": "python",
   "name": "huggingface-kernel"
  },
  "language_info": {
   "codemirror_mode": {
    "name": "ipython",
    "version": 3
   },
   "file_extension": ".py",
   "mimetype": "text/x-python",
   "name": "python",
   "nbconvert_exporter": "python",
   "pygments_lexer": "ipython3",
   "version": "3.10.8"
  }
 },
 "nbformat": 4,
 "nbformat_minor": 5
}
